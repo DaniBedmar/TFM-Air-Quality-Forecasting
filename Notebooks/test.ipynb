{
 "cells": [
  {
   "cell_type": "code",
   "execution_count": 11,
   "id": "8148ac4e",
   "metadata": {},
   "outputs": [],
   "source": [
    "from utils.dictionaries import sub_tipo_mapping,mapping\n",
    "import polars as pl\n",
    "import os\n",
    "from utils.dictionaries import types_parque_post\n",
    "from utils.functions import simplify_euro_emissions"
   ]
  },
  {
   "cell_type": "code",
   "execution_count": 7,
   "id": "8acfb640",
   "metadata": {},
   "outputs": [],
   "source": [
    "clean_park = os.path.join(\"..\",\"Data\", \"DGT\",'Parque_exacto','clean_park.csv')\n",
    "necessary_cols = ['FECHA_PRIM_MATR','FECHA_MATR']\n",
    "park = pl.scan_csv(clean_park,separator='|', schema=types_parque_post)\n",
    "park = park.collect()"
   ]
  },
  {
   "cell_type": "code",
   "execution_count": 12,
   "id": "58b3a600",
   "metadata": {},
   "outputs": [],
   "source": [
    "parke = simplify_euro_emissions(park)"
   ]
  },
  {
   "cell_type": "code",
   "execution_count": 14,
   "id": "6fcdca69",
   "metadata": {},
   "outputs": [],
   "source": [
    "parkee = parke.select('Simplified_EURO','FECHA_PRIM_MATR','EMISIONES_EURO')"
   ]
  },
  {
   "cell_type": "code",
   "execution_count": 16,
   "id": "3d60fff8",
   "metadata": {},
   "outputs": [
    {
     "data": {
      "text/html": [
       "<div><style>\n",
       ".dataframe > thead > tr,\n",
       ".dataframe > tbody > tr {\n",
       "  text-align: right;\n",
       "  white-space: pre-wrap;\n",
       "}\n",
       "</style>\n",
       "<small>shape: (546_085, 3)</small><table border=\"1\" class=\"dataframe\"><thead><tr><th>Simplified_EURO</th><th>FECHA_PRIM_MATR</th><th>EMISIONES_EURO</th></tr><tr><td>str</td><td>date</td><td>str</td></tr></thead><tbody><tr><td>&quot;EURO_6&quot;</td><td>2021-07-28</td><td>&quot;NO_EMISIONS&quot;</td></tr><tr><td>&quot;EURO_3&quot;</td><td>2002-05-22</td><td>&quot;NO_EMISIONS&quot;</td></tr><tr><td>&quot;EURO_4&quot;</td><td>2006-11-28</td><td>&quot;NO_EMISIONS&quot;</td></tr><tr><td>&quot;EURO_4&quot;</td><td>2010-05-20</td><td>&quot;NO_EMISIONS&quot;</td></tr><tr><td>&quot;EURO_6&quot;</td><td>2021-02-04</td><td>&quot;NO_EMISIONS&quot;</td></tr><tr><td>&hellip;</td><td>&hellip;</td><td>&hellip;</td></tr><tr><td>&quot;Previous&quot;</td><td>1991-06-03</td><td>&quot;NO_EMISIONS&quot;</td></tr><tr><td>&quot;EURO_6&quot;</td><td>2022-09-12</td><td>&quot;NO_EMISIONS&quot;</td></tr><tr><td>&quot;EURO_2&quot;</td><td>2000-10-18</td><td>&quot;NO_EMISIONS&quot;</td></tr><tr><td>&quot;Previous&quot;</td><td>1985-10-08</td><td>&quot;NO_EMISIONS&quot;</td></tr><tr><td>&quot;EURO_4&quot;</td><td>2007-10-24</td><td>&quot;NO_EMISIONS&quot;</td></tr></tbody></table></div>"
      ],
      "text/plain": [
       "shape: (546_085, 3)\n",
       "┌─────────────────┬─────────────────┬────────────────┐\n",
       "│ Simplified_EURO ┆ FECHA_PRIM_MATR ┆ EMISIONES_EURO │\n",
       "│ ---             ┆ ---             ┆ ---            │\n",
       "│ str             ┆ date            ┆ str            │\n",
       "╞═════════════════╪═════════════════╪════════════════╡\n",
       "│ EURO_6          ┆ 2021-07-28      ┆ NO_EMISIONS    │\n",
       "│ EURO_3          ┆ 2002-05-22      ┆ NO_EMISIONS    │\n",
       "│ EURO_4          ┆ 2006-11-28      ┆ NO_EMISIONS    │\n",
       "│ EURO_4          ┆ 2010-05-20      ┆ NO_EMISIONS    │\n",
       "│ EURO_6          ┆ 2021-02-04      ┆ NO_EMISIONS    │\n",
       "│ …               ┆ …               ┆ …              │\n",
       "│ Previous        ┆ 1991-06-03      ┆ NO_EMISIONS    │\n",
       "│ EURO_6          ┆ 2022-09-12      ┆ NO_EMISIONS    │\n",
       "│ EURO_2          ┆ 2000-10-18      ┆ NO_EMISIONS    │\n",
       "│ Previous        ┆ 1985-10-08      ┆ NO_EMISIONS    │\n",
       "│ EURO_4          ┆ 2007-10-24      ┆ NO_EMISIONS    │\n",
       "└─────────────────┴─────────────────┴────────────────┘"
      ]
     },
     "execution_count": 16,
     "metadata": {},
     "output_type": "execute_result"
    }
   ],
   "source": [
    "parkee.filter(pl.col('EMISIONES_EURO') == 'NO_EMISIONS')"
   ]
  }
 ],
 "metadata": {
  "kernelspec": {
   "display_name": ".venv",
   "language": "python",
   "name": "python3"
  },
  "language_info": {
   "codemirror_mode": {
    "name": "ipython",
    "version": 3
   },
   "file_extension": ".py",
   "mimetype": "text/x-python",
   "name": "python",
   "nbconvert_exporter": "python",
   "pygments_lexer": "ipython3",
   "version": "3.9.6"
  }
 },
 "nbformat": 4,
 "nbformat_minor": 5
}
