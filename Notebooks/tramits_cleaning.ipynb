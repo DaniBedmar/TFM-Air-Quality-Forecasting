{
 "cells": [
  {
   "cell_type": "code",
   "execution_count": null,
   "id": "da5fbf26",
   "metadata": {},
   "outputs": [
    {
     "data": {
      "text/html": [
       "<div><style>\n",
       ".dataframe > thead > tr,\n",
       ".dataframe > tbody > tr {\n",
       "  text-align: right;\n",
       "  white-space: pre-wrap;\n",
       "}\n",
       "</style>\n",
       "<small>shape: (148_796, 40)</small><table border=\"1\" class=\"dataframe\"><thead><tr><th>FECHA_MATR</th><th>FECHA_PRIM_MATR</th><th>CLASE_MATR</th><th>MARCA</th><th>MODELO</th><th>PROCEDENCIA</th><th>TIPO</th><th>TIPO_DGT</th><th>PROPULSION</th><th>CILINDRADA</th><th>POTENCIA</th><th>KW</th><th>TARA</th><th>PESO_MAX</th><th>MOM</th><th>MMTA</th><th>PLAZAS</th><th>PLAZAS_MAX</th><th>PLAZAS_PIE</th><th>NUM_TITULARES</th><th>PROVINCIA</th><th>MUNICIPIO</th><th>PROVINCIA_MATR</th><th>NUEVO_USADO</th><th>TIPO_TITULAR</th><th>SERVICIO</th><th>EMISIONES_CO2</th><th>RENTING</th><th>VARIANTE</th><th>VERSION</th><th>FABRICANTE</th><th>CARROCERIA</th><th>DISTANCIA_EJES</th><th>EJE_ANTERIOR</th><th>EJE_POSTERIOR</th><th>EMISIONES_EURO</th><th>CONSUMO</th><th>AUTONOMIA</th><th>ALIMENTACION</th><th>CATELECT</th></tr><tr><td>date</td><td>str</td><td>str</td><td>str</td><td>str</td><td>str</td><td>str</td><td>str</td><td>str</td><td>str</td><td>str</td><td>str</td><td>str</td><td>str</td><td>str</td><td>str</td><td>str</td><td>str</td><td>str</td><td>str</td><td>str</td><td>str</td><td>str</td><td>str</td><td>str</td><td>str</td><td>str</td><td>str</td><td>str</td><td>str</td><td>str</td><td>str</td><td>str</td><td>str</td><td>str</td><td>str</td><td>str</td><td>str</td><td>str</td><td>str</td></tr></thead><tbody><tr><td>2024-03-01</td><td>&quot;&quot;</td><td>&quot;0&quot;</td><td>&quot;TOYOTA&quot;</td><td>&quot;TOYOTA YARIS CROSS&quot;</td><td>&quot;3&quot;</td><td>&quot;40&quot;</td><td>&quot;&quot;</td><td>&quot;0&quot;</td><td>&quot;1490&quot;</td><td>&quot;9.95&quot;</td><td>&quot;68.00&quot;</td><td>&quot;0&quot;</td><td>&quot;1690&quot;</td><td>&quot;1250&quot;</td><td>&quot;1690&quot;</td><td>&quot;5&quot;</td><td>&quot;5&quot;</td><td>&quot;0&quot;</td><td>&quot;01&quot;</td><td>&quot;M&quot;</td><td>&quot;28169&quot;</td><td>&quot;M&quot;</td><td>&quot;N&quot;</td><td>&quot;X&quot;</td><td>&quot;A01&quot;</td><td>&quot;101&quot;</td><td>&quot;S&quot;</td><td>&quot;MXPJ10(H)&quot;</td><td>&quot;MXPJ10L-BHXNBW(DD)&quot;</td><td>&quot;TOYOTA MOTOR CORPORATION&quot;</td><td>&quot;AB&quot;</td><td>&quot;2560&quot;</td><td>&quot;1520&quot;</td><td>&quot;1520&quot;</td><td>&quot;EURO 6AP&quot;</td><td>&quot;0&quot;</td><td>&quot;000000&quot;</td><td>&quot;M&quot;</td><td>&quot;HEV&quot;</td></tr><tr><td>2024-03-01</td><td>&quot;&quot;</td><td>&quot;6&quot;</td><td>&quot;SCOOBIC&quot;</td><td>&quot;SCOOBIC LIGHT&quot;</td><td>&quot;3&quot;</td><td>&quot;91&quot;</td><td>&quot;&quot;</td><td>&quot;2&quot;</td><td>&quot;0&quot;</td><td>&quot;0.71&quot;</td><td>&quot;3.70&quot;</td><td>&quot;265&quot;</td><td>&quot;685&quot;</td><td>&quot;265&quot;</td><td>&quot;685&quot;</td><td>&quot;1&quot;</td><td>&quot;1&quot;</td><td>&quot;0&quot;</td><td>&quot;01&quot;</td><td>&quot;SE&quot;</td><td>&quot;41038&quot;</td><td>&quot;SE&quot;</td><td>&quot;N&quot;</td><td>&quot;X&quot;</td><td>&quot;A01&quot;</td><td>&quot;&quot;</td><td>&quot;N&quot;</td><td>&quot;1&quot;</td><td>&quot;9&quot;</td><td>&quot;GREEN MESSENGER ELECTRIC VEHIC…</td><td>&quot;&quot;</td><td>&quot;2240&quot;</td><td>&quot;0&quot;</td><td>&quot;820&quot;</td><td>&quot;EURO 5&quot;</td><td>&quot;0&quot;</td><td>&quot;000000&quot;</td><td>&quot;&quot;</td><td>&quot;&quot;</td></tr><tr><td>2024-03-01</td><td>&quot;&quot;</td><td>&quot;0&quot;</td><td>&quot;MAN&quot;</td><td>&quot;TGX&quot;</td><td>&quot;3&quot;</td><td>&quot;81&quot;</td><td>&quot;&quot;</td><td>&quot;1&quot;</td><td>&quot;12419&quot;</td><td>&quot;46.80&quot;</td><td>&quot;382.00&quot;</td><td>&quot;0&quot;</td><td>&quot;18000&quot;</td><td>&quot;8003&quot;</td><td>&quot;18000&quot;</td><td>&quot;2&quot;</td><td>&quot;2&quot;</td><td>&quot;0&quot;</td><td>&quot;01&quot;</td><td>&quot;M&quot;</td><td>&quot;28006&quot;</td><td>&quot;M&quot;</td><td>&quot;N&quot;</td><td>&quot;X&quot;</td><td>&quot;A01&quot;</td><td>&quot;&quot;</td><td>&quot;S&quot;</td><td>&quot;06K04ZBBAAA1SAA&quot;</td><td>&quot;G0ACF&quot;</td><td>&quot;MAN TRUCK &amp; BUS SE&quot;</td><td>&quot;BC&quot;</td><td>&quot;3600&quot;</td><td>&quot;0&quot;</td><td>&quot;0&quot;</td><td>&quot;=VIE&quot;</td><td>&quot;0&quot;</td><td>&quot;000000&quot;</td><td>&quot;&quot;</td><td>&quot;&quot;</td></tr><tr><td>2024-03-01</td><td>&quot;&quot;</td><td>&quot;0&quot;</td><td>&quot;HYUNDAI&quot;</td><td>&quot;TUCSON&quot;</td><td>&quot;3&quot;</td><td>&quot;40&quot;</td><td>&quot;&quot;</td><td>&quot;1&quot;</td><td>&quot;1598&quot;</td><td>&quot;11.64&quot;</td><td>&quot;100.00&quot;</td><td>&quot;0&quot;</td><td>&quot;2140&quot;</td><td>&quot;1606&quot;</td><td>&quot;2140&quot;</td><td>&quot;5&quot;</td><td>&quot;5&quot;</td><td>&quot;0&quot;</td><td>&quot;01&quot;</td><td>&quot;M&quot;</td><td>&quot;28169&quot;</td><td>&quot;B&quot;</td><td>&quot;N&quot;</td><td>&quot;X&quot;</td><td>&quot;B00&quot;</td><td>&quot;134&quot;</td><td>&quot;S&quot;</td><td>&quot;F5D51&quot;</td><td>&quot;D72A14&quot;</td><td>&quot;HYUNDAI MOTOR MANUFACTURING CZ…</td><td>&quot;AF&quot;</td><td>&quot;2680&quot;</td><td>&quot;1630&quot;</td><td>&quot;1637&quot;</td><td>&quot;EURO 6AP&quot;</td><td>&quot;0&quot;</td><td>&quot;000000&quot;</td><td>&quot;M&quot;</td><td>&quot;HEV&quot;</td></tr><tr><td>2024-03-01</td><td>&quot;&quot;</td><td>&quot;0&quot;</td><td>&quot;KTM&quot;</td><td>&quot;KTM 300 EXC&quot;</td><td>&quot;3&quot;</td><td>&quot;50&quot;</td><td>&quot;&quot;</td><td>&quot;0&quot;</td><td>&quot;293&quot;</td><td>&quot;3.32&quot;</td><td>&quot;9.80&quot;</td><td>&quot;0&quot;</td><td>&quot;335&quot;</td><td>&quot;114&quot;</td><td>&quot;335&quot;</td><td>&quot;1&quot;</td><td>&quot;1&quot;</td><td>&quot;0&quot;</td><td>&quot;01&quot;</td><td>&quot;AL&quot;</td><td>&quot;04013&quot;</td><td>&quot;SE&quot;</td><td>&quot;N&quot;</td><td>&quot;D&quot;</td><td>&quot;B00&quot;</td><td>&quot;62&quot;</td><td>&quot;N&quot;</td><td>&quot;B&quot;</td><td>&quot;N/A&quot;</td><td>&quot;KTM AG&quot;</td><td>&quot;&quot;</td><td>&quot;1488&quot;</td><td>&quot;0&quot;</td><td>&quot;0&quot;</td><td>&quot;EURO 5&quot;</td><td>&quot;0&quot;</td><td>&quot;000000&quot;</td><td>&quot;&quot;</td><td>&quot;&quot;</td></tr><tr><td>&hellip;</td><td>&hellip;</td><td>&hellip;</td><td>&hellip;</td><td>&hellip;</td><td>&hellip;</td><td>&hellip;</td><td>&hellip;</td><td>&hellip;</td><td>&hellip;</td><td>&hellip;</td><td>&hellip;</td><td>&hellip;</td><td>&hellip;</td><td>&hellip;</td><td>&hellip;</td><td>&hellip;</td><td>&hellip;</td><td>&hellip;</td><td>&hellip;</td><td>&hellip;</td><td>&hellip;</td><td>&hellip;</td><td>&hellip;</td><td>&hellip;</td><td>&hellip;</td><td>&hellip;</td><td>&hellip;</td><td>&hellip;</td><td>&hellip;</td><td>&hellip;</td><td>&hellip;</td><td>&hellip;</td><td>&hellip;</td><td>&hellip;</td><td>&hellip;</td><td>&hellip;</td><td>&hellip;</td><td>&hellip;</td><td>&hellip;</td></tr><tr><td>2024-03-28</td><td>&quot;&quot;</td><td>&quot;0&quot;</td><td>&quot;OPEL&quot;</td><td>&quot;VIVARO ELECTRIC FURGÓN&quot;</td><td>&quot;3&quot;</td><td>&quot;20&quot;</td><td>&quot;&quot;</td><td>&quot;2&quot;</td><td>&quot;0&quot;</td><td>&quot;11.06&quot;</td><td>&quot;100.00&quot;</td><td>&quot;0&quot;</td><td>&quot;3025&quot;</td><td>&quot;2100&quot;</td><td>&quot;3025&quot;</td><td>&quot;3&quot;</td><td>&quot;3&quot;</td><td>&quot;0&quot;</td><td>&quot;01&quot;</td><td>&quot;B&quot;</td><td>&quot;08178&quot;</td><td>&quot;B&quot;</td><td>&quot;N&quot;</td><td>&quot;X&quot;</td><td>&quot;B00&quot;</td><td>&quot;&quot;</td><td>&quot;N&quot;</td><td>&quot;1&quot;</td><td>&quot;ZKXZ-B7801C&quot;</td><td>&quot;PSA PEUGEOT-CITROEN S.A&quot;</td><td>&quot;BB&quot;</td><td>&quot;3275&quot;</td><td>&quot;1630&quot;</td><td>&quot;1618&quot;</td><td>&quot;EURO AX&quot;</td><td>&quot;266&quot;</td><td>&quot;031800&quot;</td><td>&quot;M&quot;</td><td>&quot;BEV&quot;</td></tr><tr><td>2024-03-28</td><td>&quot;&quot;</td><td>&quot;0&quot;</td><td>&quot;MERCEDES-BENZ&quot;</td><td>&quot;VITO&quot;</td><td>&quot;3&quot;</td><td>&quot;0G&quot;</td><td>&quot;&quot;</td><td>&quot;1&quot;</td><td>&quot;1950&quot;</td><td>&quot;13.12&quot;</td><td>&quot;100.00&quot;</td><td>&quot;0&quot;</td><td>&quot;2800&quot;</td><td>&quot;1933&quot;</td><td>&quot;2800&quot;</td><td>&quot;5&quot;</td><td>&quot;5&quot;</td><td>&quot;0&quot;</td><td>&quot;01&quot;</td><td>&quot;L&quot;</td><td>&quot;25016&quot;</td><td>&quot;L&quot;</td><td>&quot;N&quot;</td><td>&quot;D&quot;</td><td>&quot;B00&quot;</td><td>&quot;188&quot;</td><td>&quot;N&quot;</td><td>&quot;MXU2L280TXX&quot;</td><td>&quot;2GJRFX25BEXX&quot;</td><td>&quot;MERCEDES-BENZ AG&quot;</td><td>&quot;BB&quot;</td><td>&quot;3200&quot;</td><td>&quot;1666&quot;</td><td>&quot;1646&quot;</td><td>&quot;=6EA&quot;</td><td>&quot;0&quot;</td><td>&quot;000000&quot;</td><td>&quot;M&quot;</td><td>&quot;&quot;</td></tr><tr><td>2024-03-28</td><td>&quot;&quot;</td><td>&quot;0&quot;</td><td>&quot;CITROEN&quot;</td><td>&quot;NUEVO C3 PURETECH 83 S&quot;</td><td>&quot;3&quot;</td><td>&quot;40&quot;</td><td>&quot;&quot;</td><td>&quot;0&quot;</td><td>&quot;1199&quot;</td><td>&quot;8.73&quot;</td><td>&quot;61.00&quot;</td><td>&quot;0&quot;</td><td>&quot;1540&quot;</td><td>&quot;1055&quot;</td><td>&quot;1540&quot;</td><td>&quot;5&quot;</td><td>&quot;5&quot;</td><td>&quot;0&quot;</td><td>&quot;01&quot;</td><td>&quot;CS&quot;</td><td>&quot;12040&quot;</td><td>&quot;CS&quot;</td><td>&quot;N&quot;</td><td>&quot;D&quot;</td><td>&quot;B00&quot;</td><td>&quot;123&quot;</td><td>&quot;N&quot;</td><td>&quot;XHMR&quot;</td><td>&quot;V/AMXS&quot;</td><td>&quot;AUTOMOBILES CITROEN PARIS - FR…</td><td>&quot;AB&quot;</td><td>&quot;2539&quot;</td><td>&quot;1483&quot;</td><td>&quot;1480&quot;</td><td>&quot;EURO 6AP&quot;</td><td>&quot;0&quot;</td><td>&quot;000000&quot;</td><td>&quot;M&quot;</td><td>&quot;&quot;</td></tr><tr><td>2024-03-28</td><td>&quot;&quot;</td><td>&quot;0&quot;</td><td>&quot;MINI&quot;</td><td>&quot;COOPER&quot;</td><td>&quot;3&quot;</td><td>&quot;40&quot;</td><td>&quot;&quot;</td><td>&quot;0&quot;</td><td>&quot;1499&quot;</td><td>&quot;9.98&quot;</td><td>&quot;100.00&quot;</td><td>&quot;0&quot;</td><td>&quot;1715&quot;</td><td>&quot;1360&quot;</td><td>&quot;1715&quot;</td><td>&quot;4&quot;</td><td>&quot;4&quot;</td><td>&quot;0&quot;</td><td>&quot;01&quot;</td><td>&quot;B&quot;</td><td>&quot;08107&quot;</td><td>&quot;B&quot;</td><td>&quot;N&quot;</td><td>&quot;D&quot;</td><td>&quot;B00&quot;</td><td>&quot;139&quot;</td><td>&quot;N&quot;</td><td>&quot;21DL&quot;</td><td>&quot;IAW40000&quot;</td><td>&quot;BAYERISCHE MOTOREN WERKE AG AK…</td><td>&quot;AE&quot;</td><td>&quot;2495&quot;</td><td>&quot;1503&quot;</td><td>&quot;1509&quot;</td><td>&quot;EURO 6AP&quot;</td><td>&quot;0&quot;</td><td>&quot;000000&quot;</td><td>&quot;M&quot;</td><td>&quot;&quot;</td></tr><tr><td>2024-03-28</td><td>&quot;&quot;</td><td>&quot;0&quot;</td><td>&quot;OPEL&quot;</td><td>&quot;NUEVO COMBO 100 CV 1.5&quot;</td><td>&quot;3&quot;</td><td>&quot;40&quot;</td><td>&quot;&quot;</td><td>&quot;1&quot;</td><td>&quot;1499&quot;</td><td>&quot;11.19&quot;</td><td>&quot;&quot;</td><td>&quot;0&quot;</td><td>&quot;2120&quot;</td><td>&quot;&quot;</td><td>&quot;&quot;</td><td>&quot;5&quot;</td><td>&quot;&quot;</td><td>&quot;&quot;</td><td>&quot;01&quot;</td><td>&quot;&quot;</td><td>&quot;&quot;</td><td>&quot;&quot;</td><td>&quot;&quot;</td><td>&quot;&quot;</td><td>&quot;&quot;</td><td>&quot;&quot;</td><td>&quot;&quot;</td><td>&quot;&quot;</td><td>&quot;&quot;</td><td>&quot;&quot;</td><td>&quot;&quot;</td><td>&quot;&quot;</td><td>&quot;&quot;</td><td>&quot;&quot;</td><td>&quot;&quot;</td><td>&quot;&quot;</td><td>&quot;&quot;</td><td>&quot;&quot;</td><td>&quot;&quot;</td></tr></tbody></table></div>"
      ],
      "text/plain": [
       "shape: (148_796, 40)\n",
       "┌────────────┬────────────┬───────────┬───────────┬───┬─────────┬───────────┬───────────┬──────────┐\n",
       "│ FECHA_MATR ┆ FECHA_PRIM ┆ CLASE_MAT ┆ MARCA     ┆ … ┆ CONSUMO ┆ AUTONOMIA ┆ ALIMENTAC ┆ CATELECT │\n",
       "│ ---        ┆ _MATR      ┆ R         ┆ ---       ┆   ┆ ---     ┆ ---       ┆ ION       ┆ ---      │\n",
       "│ date       ┆ ---        ┆ ---       ┆ str       ┆   ┆ str     ┆ str       ┆ ---       ┆ str      │\n",
       "│            ┆ str        ┆ str       ┆           ┆   ┆         ┆           ┆ str       ┆          │\n",
       "╞════════════╪════════════╪═══════════╪═══════════╪═══╪═════════╪═══════════╪═══════════╪══════════╡\n",
       "│ 2024-03-01 ┆            ┆ 0         ┆ TOYOTA    ┆ … ┆ 0       ┆ 000000    ┆ M         ┆ HEV      │\n",
       "│ 2024-03-01 ┆            ┆ 6         ┆ SCOOBIC   ┆ … ┆ 0       ┆ 000000    ┆           ┆          │\n",
       "│ 2024-03-01 ┆            ┆ 0         ┆ MAN       ┆ … ┆ 0       ┆ 000000    ┆           ┆          │\n",
       "│ 2024-03-01 ┆            ┆ 0         ┆ HYUNDAI   ┆ … ┆ 0       ┆ 000000    ┆ M         ┆ HEV      │\n",
       "│ 2024-03-01 ┆            ┆ 0         ┆ KTM       ┆ … ┆ 0       ┆ 000000    ┆           ┆          │\n",
       "│ …          ┆ …          ┆ …         ┆ …         ┆ … ┆ …       ┆ …         ┆ …         ┆ …        │\n",
       "│ 2024-03-28 ┆            ┆ 0         ┆ OPEL      ┆ … ┆ 266     ┆ 031800    ┆ M         ┆ BEV      │\n",
       "│ 2024-03-28 ┆            ┆ 0         ┆ MERCEDES- ┆ … ┆ 0       ┆ 000000    ┆ M         ┆          │\n",
       "│            ┆            ┆           ┆ BENZ      ┆   ┆         ┆           ┆           ┆          │\n",
       "│ 2024-03-28 ┆            ┆ 0         ┆ CITROEN   ┆ … ┆ 0       ┆ 000000    ┆ M         ┆          │\n",
       "│ 2024-03-28 ┆            ┆ 0         ┆ MINI      ┆ … ┆ 0       ┆ 000000    ┆ M         ┆          │\n",
       "│ 2024-03-28 ┆            ┆ 0         ┆ OPEL      ┆ … ┆         ┆           ┆           ┆          │\n",
       "└────────────┴────────────┴───────────┴───────────┴───┴─────────┴───────────┴───────────┴──────────┘"
      ]
     },
     "execution_count": 4,
     "metadata": {},
     "output_type": "execute_result"
    }
   ],
   "source": [
    "from pathlib import Path\n",
    "import polars as pl\n",
    "import os\n",
    "from os import listdir\n",
    "from os.path import isfile, join\n",
    "from utils.functions import tramit_file_reader\n",
    "from utils.dictionaries import common_cols_tramites, common_cols_mapping\n",
    "\n",
    "path = os.path.join(\"..\",\"Data\", \"DGT\")\n",
    "matriculaciones = os.path.join(path,'matr')\n",
    "files = [f for f in listdir(matriculaciones) if isfile(join(matriculaciones, f))]\n",
    "example = os.path.join(matriculaciones,files[0])\n",
    "\n",
    "ex = tramit_file_reader(example).select(common_cols_tramites).rename(common_cols_mapping)"
   ]
  }
 ],
 "metadata": {
  "kernelspec": {
   "display_name": ".venv",
   "language": "python",
   "name": "python3"
  },
  "language_info": {
   "codemirror_mode": {
    "name": "ipython",
    "version": 3
   },
   "file_extension": ".py",
   "mimetype": "text/x-python",
   "name": "python",
   "nbconvert_exporter": "python",
   "pygments_lexer": "ipython3",
   "version": "3.9.6"
  }
 },
 "nbformat": 4,
 "nbformat_minor": 5
}
