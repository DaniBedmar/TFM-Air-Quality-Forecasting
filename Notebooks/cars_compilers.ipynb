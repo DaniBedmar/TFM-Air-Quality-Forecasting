{
 "cells": [
  {
   "cell_type": "code",
   "execution_count": 2,
   "id": "44942bb8",
   "metadata": {},
   "outputs": [],
   "source": [
    "import os\n",
    "import calendar\n",
    "import datetime\n",
    "import polars as pl\n",
    "from os import listdir\n",
    "from os.path import isfile, join\n",
    "from utils.functions import tramit_file_reader\n",
    "from utils.dictionaries import types_parque_post\n",
    "from utils.dictionaries import common_cols_tramites, common_cols_mapping, common_cols_parque_exacto"
   ]
  },
  {
   "cell_type": "markdown",
   "id": "713e6652",
   "metadata": {},
   "source": [
    "Juntar todos los tramites"
   ]
  },
  {
   "cell_type": "code",
   "execution_count": null,
   "id": "3d64e382",
   "metadata": {},
   "outputs": [],
   "source": [
    "path = os.path.join(\"..\",\"Data\", \"DGT\")\n",
    "matriculaciones_path = os.path.join(path,'matr')\n",
    "files_matr = [\n",
    "    f for f in os.listdir(matriculaciones_path)\n",
    "    if os.path.isfile(os.path.join(matriculaciones_path, f)) and f.lower().endswith(\".txt\")\n",
    "]\n",
    "\n",
    "first_matr_file_path = os.path.join(matriculaciones_path,files_matr[0])\n",
    "file_matr = tramit_file_reader(first_matr_file_path).select(common_cols_tramites).rename(common_cols_mapping)\n",
    "files_len_matr = len(files_matr)\n",
    "\n",
    "for i in range(1,files_len_matr):\n",
    "    file_path = os.path.join(matriculaciones_path,files_matr[i])\n",
    "    new_file = tramit_file_reader(file_path).select(common_cols_tramites).rename(common_cols_mapping)\n",
    "    file_matr = pl.concat([file_matr,new_file])\n",
    "\n",
    "matriculaciones_file_path = os.path.join(matriculaciones_path,'matriculaciones.csv')\n",
    "file_matr.write_csv(matriculaciones_file_path,separator='|')\n",
    "\n",
    "bajas_path = os.path.join(path,'bajas')\n",
    "bajas_files = [\n",
    "    f for f in os.listdir(bajas_path)\n",
    "    if os.path.isfile(os.path.join(bajas_path, f)) and f.lower().endswith(\".txt\")\n",
    "]\n",
    "\n",
    "first_file_path = os.path.join(bajas_path,bajas_files[0])\n",
    "file_bajas = tramit_file_reader(first_file_path).select(common_cols_tramites).rename(common_cols_mapping)\n",
    "files_len = len(bajas_files)\n",
    "\n",
    "for i in range(1,files_len):\n",
    "    file_path = os.path.join(bajas_path,bajas_files[i])\n",
    "    new_file = tramit_file_reader(file_path).select(common_cols_tramites).rename(common_cols_mapping)\n",
    "    file_bajas = pl.concat([file_bajas,new_file])\n",
    "\n",
    "baja_file_path = os.path.join(bajas_path,'bajas.csv')\n",
    "file_bajas.write_csv(baja_file_path,separator='|')"
   ]
  },
  {
   "cell_type": "markdown",
   "id": "824abccf",
   "metadata": {},
   "source": [
    "Juntar todas las bajas"
   ]
  },
  {
   "cell_type": "code",
   "execution_count": 3,
   "id": "73c4e700",
   "metadata": {},
   "outputs": [],
   "source": [
    "def dates_range(start, end,type):\n",
    "    dates = []\n",
    "    current = datetime.date(start.year, start.month, 1)\n",
    "    while current <= end:\n",
    "        if type == 'mat':\n",
    "            dates.append(f\"export_mensual_mat_{current.year}{current.month:02d}.txt\")\n",
    "        elif type == 'bajas':\n",
    "            dates.append(f\"export_mensual_bajas_{current.year}{current.month:02d}.txt\")\n",
    "        if current.month == 12:\n",
    "            current = datetime.date(current.year + 1, 1, 1)\n",
    "        else:\n",
    "            current = datetime.date(current.year, current.month + 1, 1)\n",
    "    return dates\n",
    "\n",
    "def simplify_euro_emissions(df):\n",
    "    df = df.with_columns([\n",
    "        pl.when(pl.col(\"FECHA_PRIM_MATR\") >= pl.lit(datetime.date(2015, 9, 1))).then(pl.lit(\"EURO_6\"))\n",
    "        .when(pl.col(\"FECHA_PRIM_MATR\") >= pl.lit(datetime.date(2011, 1, 1))).then(pl.lit(\"EURO_5\"))\n",
    "        .when(pl.col(\"FECHA_PRIM_MATR\") >= pl.lit(datetime.date(2006, 1, 1))).then(pl.lit(\"EURO_4\"))\n",
    "        .when(pl.col(\"FECHA_PRIM_MATR\") >= pl.lit(datetime.date(2001, 1, 1))).then(pl.lit(\"EURO_3\"))\n",
    "        .when(pl.col(\"FECHA_PRIM_MATR\") >= pl.lit(datetime.date(1997, 1, 1))).then(pl.lit(\"EURO_2\"))\n",
    "        .when(pl.col(\"FECHA_PRIM_MATR\") >= pl.lit(datetime.date(1992, 12, 31))).then(pl.lit(\"EURO_1\"))\n",
    "        .when(pl.col(\"FECHA_PRIM_MATR\") < pl.lit(datetime.date(1992, 12, 31))).then(pl.lit(\"Previous\"))\n",
    "        .otherwise(pl.lit(\"Unkwown\"))\n",
    "        .alias(\"Simplified_EURO\")\n",
    "        ])\n",
    "\n",
    "    df = df.with_columns(\n",
    "        pl.when((pl.col(\"PROPULSION\") == \"ELEC\") | (pl.col(\"PROPULSION\") == \"H\"))\n",
    "        .then(pl.lit(\"EURO_CLEAN\"))\n",
    "        .otherwise(pl.col(\"Simplified_EURO\"))\n",
    "        .alias(\"Simplified_EURO\")\n",
    "        )\n",
    "\n",
    "    return df\n",
    "\n",
    "def get_cars(fecha,park,\n",
    "             mat_path = os.path.join(\"..\",\"Data\", \"DGT\",'matr'),\n",
    "             bajas_path = os.path.join(\"..\",\"Data\", \"DGT\",'bajas')):\n",
    "    '''\n",
    "    fecha : date in string with format %d%m%Y\n",
    "    ''' \n",
    "    fecha_foto = park.select(pl.max(\"FECHA_MATR\")).item()\n",
    "    fecha = datetime.datetime.strptime(fecha, \"%d%m%Y\").date()\n",
    "\n",
    "    if fecha >= fecha_foto:\n",
    "        # Todos los coches en parque_exacto +\n",
    "        # todas las matr entre (parque_exacto, fecha) -\n",
    "        # todas las bajas entre (parque_exacto, fecha) con fecha_prim_matr anterior a fecha\n",
    "        park_distribution = park['Simplified_EURO'].value_counts().sort('Simplified_EURO')#.rename({\"count\": \"count1\"})\n",
    "        mat_files = dates_range(fecha_foto,fecha,'mat')\n",
    "        bajas_files = dates_range(fecha_foto,fecha,'bajas')\n",
    "        for file in mat_files:\n",
    "            file_path = os.path.join(mat_path,file)\n",
    "            file = tramit_file_reader(file_path).select(common_cols_tramites).rename(common_cols_mapping)\n",
    "            file = file.with_columns([\n",
    "                pl.when(pl.col(\"FECHA_PRIM_MATR\").is_null()).then(pl.col(\"FECHA_MATR\"))\n",
    "                .otherwise(pl.col(\"FECHA_PRIM_MATR\"))\n",
    "                .alias(\"FECHA_PRIM_MATR\")\n",
    "                ])\n",
    "            file = simplify_euro_emissions(file)\n",
    "            file = file['Simplified_EURO'].value_counts().sort('Simplified_EURO')#.rename({\"count\": \"count2\"})\n",
    "            park_distribution = park_distribution.join(file, on=\"Simplified_EURO\", how=\"full\")\n",
    "            park_distribution = park_distribution.fill_null(0).with_columns([\n",
    "                (pl.col(\"count\") + pl.col(\"count_right\")).alias(\"count\")\n",
    "                ])\n",
    "            park_distribution = park_distribution.drop([\"Simplified_EURO_right\",\"count_right\"])\n",
    "\n",
    "        for file in bajas_files:\n",
    "            file_path = os.path.join(bajas_path,file)\n",
    "            file = tramit_file_reader(file_path).select(common_cols_tramites).rename(common_cols_mapping)\n",
    "            file.filter(pl.col(\"FECHA_PRIM_MATR\") <= fecha)\n",
    "            file = file.with_columns([\n",
    "                pl.when(pl.col(\"FECHA_PRIM_MATR\").is_null()).then(pl.col(\"FECHA_MATR\"))\n",
    "                .otherwise(pl.col(\"FECHA_PRIM_MATR\"))\n",
    "                .alias(\"FECHA_PRIM_MATR\")\n",
    "                ])\n",
    "            file = simplify_euro_emissions(file)\n",
    "            file = file['Simplified_EURO'].value_counts().sort('Simplified_EURO')#.rename({\"count\": \"count2\"})\n",
    "            park_distribution = park_distribution.join(file, on=\"Simplified_EURO\", how=\"full\")\n",
    "            park_distribution = park_distribution.fill_null(0).with_columns([\n",
    "                (pl.col(\"count\") - pl.col(\"count_right\")).alias(\"count\")\n",
    "                ])\n",
    "            park_distribution = park_distribution.drop([\"Simplified_EURO_right\",\"count_right\"])            \n",
    "\n",
    "        return park_distribution\n",
    "\n",
    "    elif fecha_foto >= fecha:\n",
    "        # Todos los coches en parque_exacto con fecha_prim_matr < fecha +\n",
    "        # Todas las bajas entre fehca y fecha_foto con fecha_prim_matr < fecha\n",
    "        park = park.filter(pl.col(\"FECHA_PRIM_MATR\") <= fecha)\n",
    "        park_distribution = park['Simplified_EURO'].value_counts().sort('Simplified_EURO')#.rename({\"count\": \"count1\"})\n",
    "        bajas_files = dates_range(fecha,fecha_foto,'bajas')\n",
    "\n",
    "        for file in bajas_files:\n",
    "            file_path = os.path.join(bajas_path,file)\n",
    "            file = tramit_file_reader(file_path).select(common_cols_tramites).rename(common_cols_mapping)\n",
    "            file.filter(pl.col(\"FECHA_PRIM_MATR\") <= fecha)\n",
    "            file = file.with_columns([\n",
    "                pl.when(pl.col(\"FECHA_PRIM_MATR\").is_null()).then(pl.col(\"FECHA_MATR\"))\n",
    "                .otherwise(pl.col(\"FECHA_PRIM_MATR\"))\n",
    "                .alias(\"FECHA_PRIM_MATR\")\n",
    "                ])\n",
    "            file = simplify_euro_emissions(file)\n",
    "            file = file['Simplified_EURO'].value_counts().sort('Simplified_EURO')#.rename({\"count\": \"count2\"})\n",
    "            park_distribution = park_distribution.join(file, on=\"Simplified_EURO\", how=\"full\")\n",
    "            park_distribution = park_distribution.fill_null(0).with_columns([\n",
    "                (pl.col(\"count\") + pl.col(\"count_right\")).alias(\"count\")\n",
    "                ])\n",
    "            park_distribution = park_distribution.drop([\"Simplified_EURO_right\",\"count_right\"])\n",
    "\n",
    "        return park_distribution"
   ]
  },
  {
   "cell_type": "code",
   "execution_count": 11,
   "id": "c6224b9a",
   "metadata": {},
   "outputs": [],
   "source": [
    "clean_park = os.path.join(\"..\",\"Data\", \"DGT\",'Parque_exacto','clean_park.csv')\n",
    "park= pl.scan_csv(clean_park,separator='|', schema=types_parque_post).select(common_cols_parque_exacto)\n",
    "park = park.collect()\n",
    "park = simplify_euro_emissions(park)"
   ]
  },
  {
   "cell_type": "code",
   "execution_count": null,
   "id": "020263de",
   "metadata": {},
   "outputs": [],
   "source": [
    "example = get_cars('01022024',park)"
   ]
  },
  {
   "cell_type": "code",
   "execution_count": 23,
   "id": "8b9da498",
   "metadata": {},
   "outputs": [
    {
     "name": "stdout",
     "output_type": "stream",
     "text": [
      "[38450837, 38444488, 38358935, 38331545, 38259027, 38234901, 38194674, 37595154, 36903019, 36924798, 36933420, 36946191, 36984382, 37595154]\n"
     ]
    }
   ],
   "source": [
    "dates = ['01062023','01072023','01082023','01092023','01102023','01112023','01122023','01012024','01022024','01032024','01042024','01052024','01062024','01012024']\n",
    "vehicles = []\n",
    "for date in dates:\n",
    "    vehicles.append(get_cars(date,park)[\"count\"].sum())\n",
    "print(vehicles)"
   ]
  },
  {
   "cell_type": "code",
   "execution_count": null,
   "id": "8f8a5667",
   "metadata": {},
   "outputs": [],
   "source": [
    "clean_park = os.path.join(\"..\",\"Data\", \"DGT\",'Parque_exacto','clean_park.csv')\n",
    "park = pl.scan_csv(clean_park,separator='|', schema=types_parque_post).select(common_cols_parque_exacto)\n",
    "park = park.collect()\n",
    "park = simplify_euro_emissions(park)\n",
    "resum_file = file['Simplified_EURO'].value_counts()\n",
    "resum_park = park['Simplified_EURO'].value_counts()"
   ]
  },
  {
   "cell_type": "markdown",
   "id": "23d12337",
   "metadata": {},
   "source": [
    "## Dummy scenario"
   ]
  },
  {
   "cell_type": "code",
   "execution_count": 4,
   "id": "06e803ee",
   "metadata": {},
   "outputs": [],
   "source": [
    "mat_dummy1 = dates_range(\n",
    "    datetime.date(2023,11,1),\n",
    "    datetime.date(2024,1,1),\n",
    "    'mat')\n",
    "\n",
    "baja_dummy1 = dates_range(\n",
    "    datetime.date(2023,11,1),\n",
    "    datetime.date(2024,1,1),\n",
    "    'bajas')"
   ]
  },
  {
   "cell_type": "code",
   "execution_count": 6,
   "id": "6d7bf36a",
   "metadata": {},
   "outputs": [
    {
     "data": {
      "text/plain": [
       "['export_mensual_bajas_202311.txt',\n",
       " 'export_mensual_bajas_202312.txt',\n",
       " 'export_mensual_bajas_202401.txt']"
      ]
     },
     "execution_count": 6,
     "metadata": {},
     "output_type": "execute_result"
    }
   ],
   "source": [
    "baja_dummy1"
   ]
  },
  {
   "cell_type": "code",
   "execution_count": null,
   "id": "89929354",
   "metadata": {},
   "outputs": [],
   "source": [
    "mat_dummy1 = dates_range(\n",
    "    datetime.date(2023,11,1),\n",
    "    datetime.date(2024,1,1),\n",
    "    'mat')\n",
    "\n",
    "baja_dummy1 = dates_range(\n",
    "    datetime.date(2023,11,1),\n",
    "    datetime.date(2024,1,1),\n",
    "    'bajas')\n",
    "\n",
    "mat_dummy2 = dates_range(\n",
    "    datetime.date(2022,1,1),\n",
    "    datetime.date(2022,3,1),\n",
    "    'mat')\n",
    "\n",
    "baja_dummy2 = dates_range(\n",
    "    datetime.date(2022,1,1),\n",
    "    datetime.date(2022,3,1),\n",
    "    'bajas')\n",
    "\n",
    "mat_dummy = mat_dummy1 #+ mat_dummy2\n",
    "bajas_dummy = baja_dummy1 #+ baja_dummy2\n",
    "\n",
    "mat_path = os.path.join(\"..\",\"Data\", \"DGT\",'matr')\n",
    "bajas_path = os.path.join(\"..\",\"Data\", \"DGT\",'bajas')\n",
    "dummy_path_mat = os.path.join(\"..\",\"Data\", \"DGT\",'dummy','mat')\n",
    "dummy_path_bajas = os.path.join(\"..\",\"Data\", \"DGT\",'dummy','bajas')\n",
    "\n",
    "for file in mat_dummy:\n",
    "    input_path = os.path.join(mat_path,file)\n",
    "    output_path = os.path.join(dummy_path_mat,file)\n",
    "    with open(input_path, 'r', encoding='ISO-8859-1') as infile:\n",
    "        lines = [next(infile) for _ in range(5) if infile]\n",
    "            \n",
    "    with open(output_path, 'w', encoding='ISO-8859-1') as outfile:\n",
    "        outfile.writelines(lines)\n",
    "\n",
    "for file in bajas_dummy:\n",
    "    input_path = os.path.join(bajas_path,file)\n",
    "    output_path = os.path.join(dummy_path_bajas,file)\n",
    "    with open(input_path, 'r', encoding='ISO-8859-1') as infile:\n",
    "        lines = [next(infile) for _ in range(5) if infile]\n",
    "            \n",
    "    with open(output_path, 'w', encoding='ISO-8859-1') as outfile:\n",
    "        outfile.writelines(lines)\n",
    "\n",
    "clean_park = os.path.join(\"..\",\"Data\", \"DGT\",'Parque_exacto','clean_park.csv')\n",
    "output_path = os.path.join(\"..\",\"Data\", \"DGT\",\"dummy\",\"Parque_exacto\",\"clean_park.csv\")\n",
    "with open(clean_park, 'r', encoding='utf-8') as infile:\n",
    "    lines = [next(infile) for _ in range(5) if infile]\n",
    "\n",
    "with open(output_path, 'w', encoding='utf-8') as outfile:\n",
    "    outfile.writelines(lines)"
   ]
  },
  {
   "cell_type": "code",
   "execution_count": 34,
   "id": "5524cf58",
   "metadata": {},
   "outputs": [
    {
     "data": {
      "text/plain": [
       "['export_mensual_mat_202201.txt',\n",
       " 'export_mensual_mat_202202.txt',\n",
       " 'export_mensual_mat_202203.txt']"
      ]
     },
     "execution_count": 34,
     "metadata": {},
     "output_type": "execute_result"
    }
   ],
   "source": [
    "mat_dummy2"
   ]
  },
  {
   "cell_type": "code",
   "execution_count": 27,
   "id": "1c7529b1",
   "metadata": {},
   "outputs": [
    {
     "data": {
      "text/html": [
       "<div><style>\n",
       ".dataframe > thead > tr,\n",
       ".dataframe > tbody > tr {\n",
       "  text-align: right;\n",
       "  white-space: pre-wrap;\n",
       "}\n",
       "</style>\n",
       "<small>shape: (4, 40)</small><table border=\"1\" class=\"dataframe\"><thead><tr><th>FECHA_MATR</th><th>FECHA_PRIM_MATR</th><th>CLASE_MATR</th><th>MARCA</th><th>MODELO</th><th>PROCEDENCIA</th><th>TIPO</th><th>TIPO_DGT</th><th>PROPULSION</th><th>CILINDRADA</th><th>POTENCIA</th><th>KW</th><th>TARA</th><th>PESO_MAX</th><th>MOM</th><th>MMTA</th><th>PLAZAS</th><th>PLAZAS_MAX</th><th>PLAZAS_PIE</th><th>NUM_TITULARES</th><th>PROVINCIA</th><th>MUNICIPIO</th><th>PROVINCIA_MATR</th><th>NUEVO_USADO</th><th>TIPO_TITULAR</th><th>SERVICIO</th><th>EMISIONES_CO2</th><th>RENTING</th><th>VARIANTE</th><th>VERSION</th><th>FABRICANTE</th><th>CARROCERIA</th><th>DISTANCIA_EJES</th><th>EJE_ANTERIOR</th><th>EJE_POSTERIOR</th><th>EMISIONES_EURO</th><th>CONSUMO</th><th>AUTONOMIA</th><th>ALIMENTACION</th><th>CATELECT</th></tr><tr><td>date</td><td>date</td><td>str</td><td>str</td><td>str</td><td>str</td><td>str</td><td>str</td><td>str</td><td>str</td><td>str</td><td>str</td><td>str</td><td>str</td><td>str</td><td>str</td><td>str</td><td>str</td><td>str</td><td>str</td><td>str</td><td>str</td><td>str</td><td>str</td><td>str</td><td>str</td><td>str</td><td>str</td><td>str</td><td>str</td><td>str</td><td>str</td><td>str</td><td>str</td><td>str</td><td>str</td><td>str</td><td>str</td><td>str</td><td>str</td></tr></thead><tbody><tr><td>2024-01-02</td><td>null</td><td>&quot;0&quot;</td><td>&quot;TOYOTA&quot;</td><td>&quot;TOYOTA C-HR&quot;</td><td>&quot;3&quot;</td><td>&quot;40&quot;</td><td>&quot;&quot;</td><td>&quot;0&quot;</td><td>&quot;1987&quot;</td><td>&quot;13.27&quot;</td><td>&quot;112.00&quot;</td><td>&quot;0&quot;</td><td>&quot;1955&quot;</td><td>&quot;1550&quot;</td><td>&quot;1955&quot;</td><td>&quot;5&quot;</td><td>&quot;5&quot;</td><td>&quot;0&quot;</td><td>&quot;01&quot;</td><td>&quot;M&quot;</td><td>&quot;28065&quot;</td><td>&quot;M&quot;</td><td>&quot;N&quot;</td><td>&quot;D&quot;</td><td>&quot;B00&quot;</td><td>&quot;109&quot;</td><td>&quot;N&quot;</td><td>&quot;MAXH20(H)&quot;</td><td>&quot;MAXH20L-AHXGBW(1A)&quot;</td><td>&quot;TOYOTA MOTOR CORPORATION&quot;</td><td>&quot;AB&quot;</td><td>&quot;2640&quot;</td><td>&quot;1570&quot;</td><td>&quot;1585&quot;</td><td>&quot;=6EA&quot;</td><td>&quot;0&quot;</td><td>&quot;000000&quot;</td><td>&quot;M&quot;</td><td>&quot;HEV&quot;</td></tr><tr><td>2024-01-02</td><td>2010-06-18</td><td>&quot;0&quot;</td><td>&quot;FIAT&quot;</td><td>&quot;FI&quot;</td><td>&quot;3&quot;</td><td>&quot;7A&quot;</td><td>&quot;&quot;</td><td>&quot;1&quot;</td><td>&quot;2287&quot;</td><td>&quot;14.43&quot;</td><td>&quot;95.50&quot;</td><td>&quot;3075&quot;</td><td>&quot;3500&quot;</td><td>&quot;3075&quot;</td><td>&quot;3500&quot;</td><td>&quot;4&quot;</td><td>&quot;4&quot;</td><td>&quot;0&quot;</td><td>&quot;01&quot;</td><td>&quot;CO&quot;</td><td>&quot;14038&quot;</td><td>&quot;T&quot;</td><td>&quot;U&quot;</td><td>&quot;D&quot;</td><td>&quot;B00&quot;</td><td>&quot;&quot;</td><td>&quot;N&quot;</td><td>&quot;FIF1&quot;</td><td>&quot;FEM4HI0G04BDI694&quot;</td><td>&quot;FIAT GROUP AUTOMOBILES S.P.A.&quot;</td><td>&quot;SA&quot;</td><td>&quot;4035&quot;</td><td>&quot;1810&quot;</td><td>&quot;1980&quot;</td><td>&quot;EURO 4&quot;</td><td>&quot;0&quot;</td><td>&quot;000000&quot;</td><td>&quot;M&quot;</td><td>&quot;&quot;</td></tr><tr><td>2024-01-02</td><td>null</td><td>&quot;0&quot;</td><td>&quot;RODRIGUEZ LOPEZ AUTO&quot;</td><td>&quot;RLA TRANSIT L3H3&quot;</td><td>&quot;0&quot;</td><td>&quot;22&quot;</td><td>&quot;&quot;</td><td>&quot;1&quot;</td><td>&quot;1995&quot;</td><td>&quot;13.29&quot;</td><td>&quot;125.00&quot;</td><td>&quot;0&quot;</td><td>&quot;3500&quot;</td><td>&quot;&quot;</td><td>&quot;&quot;</td><td>&quot;5&quot;</td><td>&quot;5&quot;</td><td>&quot;&quot;</td><td>&quot;01&quot;</td><td>&quot;SE&quot;</td><td>&quot;41091&quot;</td><td>&quot;SE&quot;</td><td>&quot;N&quot;</td><td>&quot;X&quot;</td><td>&quot;A07&quot;</td><td>&quot;234&quot;</td><td>&quot;N&quot;</td><td>&quot;ABLFB1ADX&quot;</td><td>&quot;WWTASAABA3AB32A01B&quot;</td><td>&quot;RODRIGUEZ LOPEZ AUTO&quot;</td><td>&quot;&quot;</td><td>&quot;&quot;</td><td>&quot;&quot;</td><td>&quot;&quot;</td><td>&quot;&quot;</td><td>&quot;&quot;</td><td>&quot;&quot;</td><td>&quot;&quot;</td><td>&quot;&quot;</td></tr><tr><td>2024-01-02</td><td>null</td><td>&quot;0&quot;</td><td>&quot;JEEP&quot;</td><td>&quot;RENEGADE&quot;</td><td>&quot;3&quot;</td><td>&quot;40&quot;</td><td>&quot;&quot;</td><td>&quot;0&quot;</td><td>&quot;1469&quot;</td><td>&quot;11.07&quot;</td><td>&quot;96.00&quot;</td><td>&quot;0&quot;</td><td>&quot;1990&quot;</td><td>&quot;1495&quot;</td><td>&quot;1990&quot;</td><td>&quot;5&quot;</td><td>&quot;5&quot;</td><td>&quot;0&quot;</td><td>&quot;01&quot;</td><td>&quot;M&quot;</td><td>&quot;28046&quot;</td><td>&quot;M&quot;</td><td>&quot;N&quot;</td><td>&quot;X&quot;</td><td>&quot;A01&quot;</td><td>&quot;129&quot;</td><td>&quot;N&quot;</td><td>&quot;AXW14&quot;</td><td>&quot;E22DP&quot;</td><td>&quot;FCA US LLC&quot;</td><td>&quot;AF&quot;</td><td>&quot;2570&quot;</td><td>&quot;1551&quot;</td><td>&quot;1553&quot;</td><td>&quot;EURO 6AP&quot;</td><td>&quot;0&quot;</td><td>&quot;000000&quot;</td><td>&quot;M&quot;</td><td>&quot;HEV&quot;</td></tr></tbody></table></div>"
      ],
      "text/plain": [
       "shape: (4, 40)\n",
       "┌────────────┬────────────┬───────────┬───────────┬───┬─────────┬───────────┬───────────┬──────────┐\n",
       "│ FECHA_MATR ┆ FECHA_PRIM ┆ CLASE_MAT ┆ MARCA     ┆ … ┆ CONSUMO ┆ AUTONOMIA ┆ ALIMENTAC ┆ CATELECT │\n",
       "│ ---        ┆ _MATR      ┆ R         ┆ ---       ┆   ┆ ---     ┆ ---       ┆ ION       ┆ ---      │\n",
       "│ date       ┆ ---        ┆ ---       ┆ str       ┆   ┆ str     ┆ str       ┆ ---       ┆ str      │\n",
       "│            ┆ date       ┆ str       ┆           ┆   ┆         ┆           ┆ str       ┆          │\n",
       "╞════════════╪════════════╪═══════════╪═══════════╪═══╪═════════╪═══════════╪═══════════╪══════════╡\n",
       "│ 2024-01-02 ┆ null       ┆ 0         ┆ TOYOTA    ┆ … ┆ 0       ┆ 000000    ┆ M         ┆ HEV      │\n",
       "│ 2024-01-02 ┆ 2010-06-18 ┆ 0         ┆ FIAT      ┆ … ┆ 0       ┆ 000000    ┆ M         ┆          │\n",
       "│ 2024-01-02 ┆ null       ┆ 0         ┆ RODRIGUEZ ┆ … ┆         ┆           ┆           ┆          │\n",
       "│            ┆            ┆           ┆ LOPEZ     ┆   ┆         ┆           ┆           ┆          │\n",
       "│            ┆            ┆           ┆ AUTO      ┆   ┆         ┆           ┆           ┆          │\n",
       "│ 2024-01-02 ┆ null       ┆ 0         ┆ JEEP      ┆ … ┆ 0       ┆ 000000    ┆ M         ┆ HEV      │\n",
       "└────────────┴────────────┴───────────┴───────────┴───┴─────────┴───────────┴───────────┴──────────┘"
      ]
     },
     "execution_count": 27,
     "metadata": {},
     "output_type": "execute_result"
    }
   ],
   "source": [
    "mat11 = os.path.join(dummy_path_mat,mat_dummy1[0])\n",
    "tramit_file_reader(mat11).select(common_cols_tramites).rename(common_cols_mapping)"
   ]
  },
  {
   "cell_type": "code",
   "execution_count": 28,
   "id": "cfef0e3a",
   "metadata": {},
   "outputs": [
    {
     "data": {
      "text/html": [
       "<div><style>\n",
       ".dataframe > thead > tr,\n",
       ".dataframe > tbody > tr {\n",
       "  text-align: right;\n",
       "  white-space: pre-wrap;\n",
       "}\n",
       "</style>\n",
       "<small>shape: (4, 40)</small><table border=\"1\" class=\"dataframe\"><thead><tr><th>FECHA_MATR</th><th>FECHA_PRIM_MATR</th><th>CLASE_MATR</th><th>MARCA</th><th>MODELO</th><th>PROCEDENCIA</th><th>TIPO</th><th>TIPO_DGT</th><th>PROPULSION</th><th>CILINDRADA</th><th>POTENCIA</th><th>KW</th><th>TARA</th><th>PESO_MAX</th><th>MOM</th><th>MMTA</th><th>PLAZAS</th><th>PLAZAS_MAX</th><th>PLAZAS_PIE</th><th>NUM_TITULARES</th><th>PROVINCIA</th><th>MUNICIPIO</th><th>PROVINCIA_MATR</th><th>NUEVO_USADO</th><th>TIPO_TITULAR</th><th>SERVICIO</th><th>EMISIONES_CO2</th><th>RENTING</th><th>VARIANTE</th><th>VERSION</th><th>FABRICANTE</th><th>CARROCERIA</th><th>DISTANCIA_EJES</th><th>EJE_ANTERIOR</th><th>EJE_POSTERIOR</th><th>EMISIONES_EURO</th><th>CONSUMO</th><th>AUTONOMIA</th><th>ALIMENTACION</th><th>CATELECT</th></tr><tr><td>date</td><td>date</td><td>str</td><td>str</td><td>str</td><td>str</td><td>str</td><td>str</td><td>str</td><td>str</td><td>str</td><td>str</td><td>str</td><td>str</td><td>str</td><td>str</td><td>str</td><td>str</td><td>str</td><td>str</td><td>str</td><td>str</td><td>str</td><td>str</td><td>str</td><td>str</td><td>str</td><td>str</td><td>str</td><td>str</td><td>str</td><td>str</td><td>str</td><td>str</td><td>str</td><td>str</td><td>str</td><td>str</td><td>str</td><td>str</td></tr></thead><tbody><tr><td>2024-02-01</td><td>null</td><td>&quot;0&quot;</td><td>&quot;TOYOTA&quot;</td><td>&quot;PROACE CITY&quot;</td><td>&quot;3&quot;</td><td>&quot;20&quot;</td><td>&quot;&quot;</td><td>&quot;1&quot;</td><td>&quot;1499&quot;</td><td>&quot;11.20&quot;</td><td>&quot;75.00&quot;</td><td>&quot;0&quot;</td><td>&quot;2020&quot;</td><td>&quot;1446&quot;</td><td>&quot;2020&quot;</td><td>&quot;2&quot;</td><td>&quot;2&quot;</td><td>&quot;0&quot;</td><td>&quot;01&quot;</td><td>&quot;M&quot;</td><td>&quot;28178&quot;</td><td>&quot;SE&quot;</td><td>&quot;N&quot;</td><td>&quot;X&quot;</td><td>&quot;B00&quot;</td><td>&quot;144&quot;</td><td>&quot;N&quot;</td><td>&quot;F&quot;</td><td>&quot;YHT2-G2F021(1T)&quot;</td><td>&quot;TOYOTA MOTOR EUROPE NV/SA&quot;</td><td>&quot;BB&quot;</td><td>&quot;2785&quot;</td><td>&quot;1563&quot;</td><td>&quot;1577&quot;</td><td>&quot;EURO 6AQ&quot;</td><td>&quot;0&quot;</td><td>&quot;000000&quot;</td><td>&quot;M&quot;</td><td>&quot;&quot;</td></tr><tr><td>2024-02-01</td><td>null</td><td>&quot;0&quot;</td><td>&quot;HARLEY-DAVIDSON&quot;</td><td>&quot;SPORTSTER S&quot;</td><td>&quot;3&quot;</td><td>&quot;50&quot;</td><td>&quot;&quot;</td><td>&quot;0&quot;</td><td>&quot;1252&quot;</td><td>&quot;10.48&quot;</td><td>&quot;&quot;</td><td>&quot;0&quot;</td><td>&quot;418&quot;</td><td>&quot;&quot;</td><td>&quot;&quot;</td><td>&quot;1&quot;</td><td>&quot;&quot;</td><td>&quot;&quot;</td><td>&quot;01&quot;</td><td>&quot;&quot;</td><td>&quot;&quot;</td><td>&quot;&quot;</td><td>&quot;&quot;</td><td>&quot;&quot;</td><td>&quot;&quot;</td><td>&quot;&quot;</td><td>&quot;&quot;</td><td>&quot;&quot;</td><td>&quot;&quot;</td><td>&quot;&quot;</td><td>&quot;&quot;</td><td>&quot;&quot;</td><td>&quot;&quot;</td><td>&quot;&quot;</td><td>&quot;&quot;</td><td>&quot;&quot;</td><td>&quot;&quot;</td><td>&quot;&quot;</td><td>&quot;&quot;</td></tr><tr><td>2024-02-01</td><td>null</td><td>&quot;0&quot;</td><td>&quot;TOYOTA&quot;</td><td>&quot;TOYOTA COROLLA&quot;</td><td>&quot;3&quot;</td><td>&quot;40&quot;</td><td>&quot;&quot;</td><td>&quot;0&quot;</td><td>&quot;1798&quot;</td><td>&quot;12.49&quot;</td><td>&quot;72.00&quot;</td><td>&quot;0&quot;</td><td>&quot;1885&quot;</td><td>&quot;1475&quot;</td><td>&quot;1885&quot;</td><td>&quot;5&quot;</td><td>&quot;5&quot;</td><td>&quot;0&quot;</td><td>&quot;01&quot;</td><td>&quot;M&quot;</td><td>&quot;28006&quot;</td><td>&quot;M&quot;</td><td>&quot;N&quot;</td><td>&quot;X&quot;</td><td>&quot;B00&quot;</td><td>&quot;101&quot;</td><td>&quot;S&quot;</td><td>&quot;ZWE219(W)&quot;</td><td>&quot;ZWE219L-DWXNBW(6H)&quot;</td><td>&quot;TOYOTA MOTOR EUROPE NV/SA&quot;</td><td>&quot;AC&quot;</td><td>&quot;2700&quot;</td><td>&quot;1530&quot;</td><td>&quot;1530&quot;</td><td>&quot;EURO 6AP&quot;</td><td>&quot;0&quot;</td><td>&quot;000000&quot;</td><td>&quot;M&quot;</td><td>&quot;HEV&quot;</td></tr><tr><td>2024-02-01</td><td>null</td><td>&quot;0&quot;</td><td>&quot;TESLA&quot;</td><td>&quot;MODEL Y&quot;</td><td>&quot;3&quot;</td><td>&quot;40&quot;</td><td>&quot;&quot;</td><td>&quot;2&quot;</td><td>&quot;0&quot;</td><td>&quot;36.87&quot;</td><td>&quot;378.00&quot;</td><td>&quot;0&quot;</td><td>&quot;2518&quot;</td><td>&quot;&quot;</td><td>&quot;&quot;</td><td>&quot;5&quot;</td><td>&quot;5&quot;</td><td>&quot;&quot;</td><td>&quot;01&quot;</td><td>&quot;MU&quot;</td><td>&quot;30030&quot;</td><td>&quot;M&quot;</td><td>&quot;N&quot;</td><td>&quot;D&quot;</td><td>&quot;B00&quot;</td><td>&quot;&quot;</td><td>&quot;N&quot;</td><td>&quot;Y5LD&quot;</td><td>&quot;BVB3S5T3&quot;</td><td>&quot;TESLA&quot;</td><td>&quot;&quot;</td><td>&quot;&quot;</td><td>&quot;&quot;</td><td>&quot;&quot;</td><td>&quot;&quot;</td><td>&quot;&quot;</td><td>&quot;&quot;</td><td>&quot;&quot;</td><td>&quot;&quot;</td></tr></tbody></table></div>"
      ],
      "text/plain": [
       "shape: (4, 40)\n",
       "┌────────────┬────────────┬───────────┬───────────┬───┬─────────┬───────────┬───────────┬──────────┐\n",
       "│ FECHA_MATR ┆ FECHA_PRIM ┆ CLASE_MAT ┆ MARCA     ┆ … ┆ CONSUMO ┆ AUTONOMIA ┆ ALIMENTAC ┆ CATELECT │\n",
       "│ ---        ┆ _MATR      ┆ R         ┆ ---       ┆   ┆ ---     ┆ ---       ┆ ION       ┆ ---      │\n",
       "│ date       ┆ ---        ┆ ---       ┆ str       ┆   ┆ str     ┆ str       ┆ ---       ┆ str      │\n",
       "│            ┆ date       ┆ str       ┆           ┆   ┆         ┆           ┆ str       ┆          │\n",
       "╞════════════╪════════════╪═══════════╪═══════════╪═══╪═════════╪═══════════╪═══════════╪══════════╡\n",
       "│ 2024-02-01 ┆ null       ┆ 0         ┆ TOYOTA    ┆ … ┆ 0       ┆ 000000    ┆ M         ┆          │\n",
       "│ 2024-02-01 ┆ null       ┆ 0         ┆ HARLEY-DA ┆ … ┆         ┆           ┆           ┆          │\n",
       "│            ┆            ┆           ┆ VIDSON    ┆   ┆         ┆           ┆           ┆          │\n",
       "│ 2024-02-01 ┆ null       ┆ 0         ┆ TOYOTA    ┆ … ┆ 0       ┆ 000000    ┆ M         ┆ HEV      │\n",
       "│ 2024-02-01 ┆ null       ┆ 0         ┆ TESLA     ┆ … ┆         ┆           ┆           ┆          │\n",
       "└────────────┴────────────┴───────────┴───────────┴───┴─────────┴───────────┴───────────┴──────────┘"
      ]
     },
     "execution_count": 28,
     "metadata": {},
     "output_type": "execute_result"
    }
   ],
   "source": [
    "mat11 = os.path.join(dummy_path_mat,mat_dummy1[1])\n",
    "tramit_file_reader(mat11).select(common_cols_tramites).rename(common_cols_mapping)"
   ]
  },
  {
   "cell_type": "code",
   "execution_count": 31,
   "id": "a5f84ede",
   "metadata": {},
   "outputs": [
    {
     "data": {
      "text/html": [
       "<div><style>\n",
       ".dataframe > thead > tr,\n",
       ".dataframe > tbody > tr {\n",
       "  text-align: right;\n",
       "  white-space: pre-wrap;\n",
       "}\n",
       "</style>\n",
       "<small>shape: (4, 40)</small><table border=\"1\" class=\"dataframe\"><thead><tr><th>FECHA_MATR</th><th>FECHA_PRIM_MATR</th><th>CLASE_MATR</th><th>MARCA</th><th>MODELO</th><th>PROCEDENCIA</th><th>TIPO</th><th>TIPO_DGT</th><th>PROPULSION</th><th>CILINDRADA</th><th>POTENCIA</th><th>KW</th><th>TARA</th><th>PESO_MAX</th><th>MOM</th><th>MMTA</th><th>PLAZAS</th><th>PLAZAS_MAX</th><th>PLAZAS_PIE</th><th>NUM_TITULARES</th><th>PROVINCIA</th><th>MUNICIPIO</th><th>PROVINCIA_MATR</th><th>NUEVO_USADO</th><th>TIPO_TITULAR</th><th>SERVICIO</th><th>EMISIONES_CO2</th><th>RENTING</th><th>VARIANTE</th><th>VERSION</th><th>FABRICANTE</th><th>CARROCERIA</th><th>DISTANCIA_EJES</th><th>EJE_ANTERIOR</th><th>EJE_POSTERIOR</th><th>EMISIONES_EURO</th><th>CONSUMO</th><th>AUTONOMIA</th><th>ALIMENTACION</th><th>CATELECT</th></tr><tr><td>date</td><td>date</td><td>str</td><td>str</td><td>str</td><td>str</td><td>str</td><td>str</td><td>str</td><td>str</td><td>str</td><td>str</td><td>str</td><td>str</td><td>str</td><td>str</td><td>str</td><td>str</td><td>str</td><td>str</td><td>str</td><td>str</td><td>str</td><td>str</td><td>str</td><td>str</td><td>str</td><td>str</td><td>str</td><td>str</td><td>str</td><td>str</td><td>str</td><td>str</td><td>str</td><td>str</td><td>str</td><td>str</td><td>str</td><td>str</td></tr></thead><tbody><tr><td>2024-03-01</td><td>null</td><td>&quot;0&quot;</td><td>&quot;TOYOTA&quot;</td><td>&quot;TOYOTA YARIS CROSS&quot;</td><td>&quot;3&quot;</td><td>&quot;40&quot;</td><td>&quot;&quot;</td><td>&quot;0&quot;</td><td>&quot;1490&quot;</td><td>&quot;9.95&quot;</td><td>&quot;68.00&quot;</td><td>&quot;0&quot;</td><td>&quot;1690&quot;</td><td>&quot;1250&quot;</td><td>&quot;1690&quot;</td><td>&quot;5&quot;</td><td>&quot;5&quot;</td><td>&quot;0&quot;</td><td>&quot;01&quot;</td><td>&quot;M&quot;</td><td>&quot;28169&quot;</td><td>&quot;M&quot;</td><td>&quot;N&quot;</td><td>&quot;X&quot;</td><td>&quot;A01&quot;</td><td>&quot;101&quot;</td><td>&quot;S&quot;</td><td>&quot;MXPJ10(H)&quot;</td><td>&quot;MXPJ10L-BHXNBW(DD)&quot;</td><td>&quot;TOYOTA MOTOR CORPORATION&quot;</td><td>&quot;AB&quot;</td><td>&quot;2560&quot;</td><td>&quot;1520&quot;</td><td>&quot;1520&quot;</td><td>&quot;EURO 6AP&quot;</td><td>&quot;0&quot;</td><td>&quot;000000&quot;</td><td>&quot;M&quot;</td><td>&quot;HEV&quot;</td></tr><tr><td>2024-03-01</td><td>null</td><td>&quot;6&quot;</td><td>&quot;SCOOBIC&quot;</td><td>&quot;SCOOBIC LIGHT&quot;</td><td>&quot;3&quot;</td><td>&quot;91&quot;</td><td>&quot;&quot;</td><td>&quot;2&quot;</td><td>&quot;0&quot;</td><td>&quot;0.71&quot;</td><td>&quot;3.70&quot;</td><td>&quot;265&quot;</td><td>&quot;685&quot;</td><td>&quot;265&quot;</td><td>&quot;685&quot;</td><td>&quot;1&quot;</td><td>&quot;1&quot;</td><td>&quot;0&quot;</td><td>&quot;01&quot;</td><td>&quot;SE&quot;</td><td>&quot;41038&quot;</td><td>&quot;SE&quot;</td><td>&quot;N&quot;</td><td>&quot;X&quot;</td><td>&quot;A01&quot;</td><td>&quot;&quot;</td><td>&quot;N&quot;</td><td>&quot;1&quot;</td><td>&quot;9&quot;</td><td>&quot;GREEN MESSENGER ELECTRIC VEHIC…</td><td>&quot;&quot;</td><td>&quot;2240&quot;</td><td>&quot;0&quot;</td><td>&quot;820&quot;</td><td>&quot;EURO 5&quot;</td><td>&quot;0&quot;</td><td>&quot;000000&quot;</td><td>&quot;&quot;</td><td>&quot;&quot;</td></tr><tr><td>2024-03-01</td><td>null</td><td>&quot;0&quot;</td><td>&quot;MAN&quot;</td><td>&quot;TGX&quot;</td><td>&quot;3&quot;</td><td>&quot;81&quot;</td><td>&quot;&quot;</td><td>&quot;1&quot;</td><td>&quot;12419&quot;</td><td>&quot;46.80&quot;</td><td>&quot;382.00&quot;</td><td>&quot;0&quot;</td><td>&quot;18000&quot;</td><td>&quot;8003&quot;</td><td>&quot;18000&quot;</td><td>&quot;2&quot;</td><td>&quot;2&quot;</td><td>&quot;0&quot;</td><td>&quot;01&quot;</td><td>&quot;M&quot;</td><td>&quot;28006&quot;</td><td>&quot;M&quot;</td><td>&quot;N&quot;</td><td>&quot;X&quot;</td><td>&quot;A01&quot;</td><td>&quot;&quot;</td><td>&quot;S&quot;</td><td>&quot;06K04ZBBAAA1SAA&quot;</td><td>&quot;G0ACF&quot;</td><td>&quot;MAN TRUCK &amp; BUS SE&quot;</td><td>&quot;BC&quot;</td><td>&quot;3600&quot;</td><td>&quot;0&quot;</td><td>&quot;0&quot;</td><td>&quot;=VIE&quot;</td><td>&quot;0&quot;</td><td>&quot;000000&quot;</td><td>&quot;&quot;</td><td>&quot;&quot;</td></tr><tr><td>2024-03-01</td><td>null</td><td>&quot;0&quot;</td><td>&quot;HYUNDAI&quot;</td><td>&quot;TUCSON&quot;</td><td>&quot;3&quot;</td><td>&quot;40&quot;</td><td>&quot;&quot;</td><td>&quot;1&quot;</td><td>&quot;1598&quot;</td><td>&quot;11.64&quot;</td><td>&quot;100.00&quot;</td><td>&quot;0&quot;</td><td>&quot;2140&quot;</td><td>&quot;1606&quot;</td><td>&quot;2140&quot;</td><td>&quot;5&quot;</td><td>&quot;5&quot;</td><td>&quot;0&quot;</td><td>&quot;01&quot;</td><td>&quot;M&quot;</td><td>&quot;28169&quot;</td><td>&quot;B&quot;</td><td>&quot;N&quot;</td><td>&quot;X&quot;</td><td>&quot;B00&quot;</td><td>&quot;134&quot;</td><td>&quot;S&quot;</td><td>&quot;F5D51&quot;</td><td>&quot;D72A14&quot;</td><td>&quot;HYUNDAI MOTOR MANUFACTURING CZ…</td><td>&quot;AF&quot;</td><td>&quot;2680&quot;</td><td>&quot;1630&quot;</td><td>&quot;1637&quot;</td><td>&quot;EURO 6AP&quot;</td><td>&quot;0&quot;</td><td>&quot;000000&quot;</td><td>&quot;M&quot;</td><td>&quot;HEV&quot;</td></tr></tbody></table></div>"
      ],
      "text/plain": [
       "shape: (4, 40)\n",
       "┌────────────┬────────────┬────────────┬─────────┬───┬─────────┬───────────┬────────────┬──────────┐\n",
       "│ FECHA_MATR ┆ FECHA_PRIM ┆ CLASE_MATR ┆ MARCA   ┆ … ┆ CONSUMO ┆ AUTONOMIA ┆ ALIMENTACI ┆ CATELECT │\n",
       "│ ---        ┆ _MATR      ┆ ---        ┆ ---     ┆   ┆ ---     ┆ ---       ┆ ON         ┆ ---      │\n",
       "│ date       ┆ ---        ┆ str        ┆ str     ┆   ┆ str     ┆ str       ┆ ---        ┆ str      │\n",
       "│            ┆ date       ┆            ┆         ┆   ┆         ┆           ┆ str        ┆          │\n",
       "╞════════════╪════════════╪════════════╪═════════╪═══╪═════════╪═══════════╪════════════╪══════════╡\n",
       "│ 2024-03-01 ┆ null       ┆ 0          ┆ TOYOTA  ┆ … ┆ 0       ┆ 000000    ┆ M          ┆ HEV      │\n",
       "│ 2024-03-01 ┆ null       ┆ 6          ┆ SCOOBIC ┆ … ┆ 0       ┆ 000000    ┆            ┆          │\n",
       "│ 2024-03-01 ┆ null       ┆ 0          ┆ MAN     ┆ … ┆ 0       ┆ 000000    ┆            ┆          │\n",
       "│ 2024-03-01 ┆ null       ┆ 0          ┆ HYUNDAI ┆ … ┆ 0       ┆ 000000    ┆ M          ┆ HEV      │\n",
       "└────────────┴────────────┴────────────┴─────────┴───┴─────────┴───────────┴────────────┴──────────┘"
      ]
     },
     "execution_count": 31,
     "metadata": {},
     "output_type": "execute_result"
    }
   ],
   "source": [
    "mat11 = os.path.join(dummy_path_mat,mat_dummy1[2])\n",
    "tramit_file_reader(mat11).select(common_cols_tramites).rename(common_cols_mapping)"
   ]
  }
 ],
 "metadata": {
  "kernelspec": {
   "display_name": ".venv",
   "language": "python",
   "name": "python3"
  },
  "language_info": {
   "codemirror_mode": {
    "name": "ipython",
    "version": 3
   },
   "file_extension": ".py",
   "mimetype": "text/x-python",
   "name": "python",
   "nbconvert_exporter": "python",
   "pygments_lexer": "ipython3",
   "version": "3.9.6"
  }
 },
 "nbformat": 4,
 "nbformat_minor": 5
}
