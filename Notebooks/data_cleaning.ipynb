{
 "cells": [
  {
   "cell_type": "markdown",
   "metadata": {},
   "source": [
    "# Jupyter Notebook for cleaning the complete dataset"
   ]
  },
  {
   "cell_type": "markdown",
   "metadata": {},
   "source": [
    "The objective of this notebook is to clean the dataset containing all the registred cars in order to use it for different pourposes. This will be done by applying the corresponding filters and casting the data to they propper formats"
   ]
  },
  {
   "cell_type": "markdown",
   "metadata": {},
   "source": [
    "## Read and filter the file"
   ]
  },
  {
   "cell_type": "code",
   "execution_count": null,
   "metadata": {},
   "outputs": [],
   "source": [
    "import polars as pl\n",
    "import os"
   ]
  },
  {
   "cell_type": "code",
   "execution_count": 4,
   "metadata": {},
   "outputs": [],
   "source": [
    "path = os.path.join(\"..\",\"Data\", \"DGT\")\n",
    "complete_park = os.path.join(path,'Parque_exacto','mat_2023.txt')"
   ]
  },
  {
   "cell_type": "markdown",
   "metadata": {},
   "source": [
    "Cast columns to their correct type and perform the necessary filtrations"
   ]
  },
  {
   "cell_type": "code",
   "execution_count": null,
   "metadata": {},
   "outputs": [],
   "source": [
    "from dictionaries import types_parque\n",
    "from dictionaries import sub_tipo_mapping\n",
    "\n",
    "parque = pl.scan_csv(complete_park,\n",
    "            separator='|',\n",
    "            schema=types_parque)\n",
    "\n",
    "parque = parque.filter(pl.col(\"FECHA_MATR\") >= pl.col(\"FECHA_PRIM_MATR\")).with_columns(\n",
    "    pl.col('POTENCIA').str.replace(\",\", \".\").cast(pl.Float64),\n",
    "    pl.col('PROPULSION').str.replace(\",\", \".\").cast(pl.Float64),\n",
    "    pl.col('SUBTIPO_DGT').replace(sub_tipo_mapping).alias(\"SUBTIPO_DGT\"),\n",
    "    pl.col('AUTONOMIA').str.replace(\" \", \"\").str.replace(\",\", \".\").str.replace(\"0000Û0\",\"000000\").cast(pl.Float64))\n",
    "\n",
    "park = parque.collect()"
   ]
  },
  {
   "cell_type": "code",
   "execution_count": 16,
   "metadata": {},
   "outputs": [],
   "source": [
    "remolques =  list(sub_tipo_mapping.values())\n",
    "\n",
    "park = park.with_columns(\n",
    "    pl.when((pl.col(\"SUBTIPO_DGT\").is_in(remolques)) |\n",
    "            (pl.col('CLASE_MATR') == \"Remolque\"))\n",
    "    .then(pl.lit(\"NO_EMISIONS\"))\n",
    "    .otherwise(pl.col(\"EMISIONES_EURO\"))\n",
    "    .alias(\"EMISIONES_EURO\"))\n",
    "\n",
    "inverse_sub_tipo_mapping = {v: k for k, v in sub_tipo_mapping.items()}\n",
    "\n",
    "park = park.with_columns(\n",
    "    pl.col('SUBTIPO_DGT').replace(inverse_sub_tipo_mapping).alias(\"SUBTIPO_DGT\"))"
   ]
  },
  {
   "cell_type": "markdown",
   "metadata": {},
   "source": [
    "## Write the file"
   ]
  },
  {
   "cell_type": "code",
   "execution_count": 18,
   "metadata": {},
   "outputs": [],
   "source": [
    "clean_park = os.path.join(path,'Parque_exacto','clean_park.csv')\n",
    "park.write_csv(clean_park)"
   ]
  }
 ],
 "metadata": {
  "kernelspec": {
   "display_name": ".venv",
   "language": "python",
   "name": "python3"
  },
  "language_info": {
   "codemirror_mode": {
    "name": "ipython",
    "version": 3
   },
   "file_extension": ".py",
   "mimetype": "text/x-python",
   "name": "python",
   "nbconvert_exporter": "python",
   "pygments_lexer": "ipython3",
   "version": "3.9.6"
  }
 },
 "nbformat": 4,
 "nbformat_minor": 2
}
