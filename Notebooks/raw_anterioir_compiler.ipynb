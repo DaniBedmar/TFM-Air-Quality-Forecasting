{
 "cells": [
  {
   "cell_type": "code",
   "execution_count": 1,
   "id": "8fffebf0",
   "metadata": {},
   "outputs": [],
   "source": [
    "import polars as pl\n",
    "import datetime\n",
    "import os\n",
    "\n",
    "from utils.functions import tramit_file_reader, dates_range, simplify_euro_emissions\n",
    "from utils.dictionaries import types_parque_post, types_tramit_post\n",
    "from utils.dictionaries import common_cols_tramites, common_cols_mapping, common_cols_parque_exacto"
   ]
  },
  {
   "cell_type": "code",
   "execution_count": null,
   "id": "6a67b475",
   "metadata": {},
   "outputs": [],
   "source": [
    "clearn_park_path = os.path.join('..','Data','DGT','Parque_Exacto','clean_park.csv')\n",
    "bajas_dir_path = os.path.join('..','Data','DGT','bajas')\n",
    "\n",
    "common_cols_tramites = ['FEC_MATRICULA','FEC_PRIM_MATRICULACION','COD_PROPULSION_ITV']\n",
    "common_cols_mapping = {\"FEC_MATRICULA\": \"FECHA_MATR\", \"FEC_PRIM_MATRICULACION\": \"FECHA_PRIM_MATR\", \"COD_PROPULSION_ITV\": \"PROPULSION\"}\n",
    "necessary_cols = ['FECHA_PRIM_MATR','FECHA_MATR','PROPULSION']\n",
    "\n",
    "park = pl.scan_csv(clearn_park_path,separator='|', schema=types_parque_post).select(necessary_cols)\n",
    "park = park.collect()\n",
    "park = simplify_euro_emissions(park).drop('PROPULSION')\n",
    "\n",
    "bajas_files = [\n",
    "    f for f in os.listdir(bajas_dir_path)\n",
    "    if os.path.isfile(os.path.join(bajas_dir_path, f)) and f.lower().endswith(\".txt\")\n",
    "]\n",
    "\n",
    "first_file_path = os.path.join(bajas_dir_path,bajas_files[0])\n",
    "file_bajas = tramit_file_reader(first_file_path).select(common_cols_tramites).rename(common_cols_mapping)\n",
    "file_bajas = simplify_euro_emissions(file_bajas).drop('PROPULSION')\n",
    "\n",
    "for i in range(1,len(bajas_files)):\n",
    "    file_path = os.path.join(bajas_dir_path,bajas_files[i])\n",
    "    new_file = tramit_file_reader(file_path).select(common_cols_tramites).rename(common_cols_mapping)\n",
    "    new_file = simplify_euro_emissions(new_file).drop('PROPULSION')\n",
    "    file_bajas = pl.concat([file_bajas,new_file])\n",
    "\n",
    "file = pl.concat([park,file_bajas])\n",
    "file_path = os.path.join('..','Data','DGT','Parque_Exacto','park_w_deregisters.csv')\n",
    "file.write_csv(file_path,separator='|')"
   ]
  }
 ],
 "metadata": {
  "kernelspec": {
   "display_name": ".venv",
   "language": "python",
   "name": "python3"
  },
  "language_info": {
   "codemirror_mode": {
    "name": "ipython",
    "version": 3
   },
   "file_extension": ".py",
   "mimetype": "text/x-python",
   "name": "python",
   "nbconvert_exporter": "python",
   "pygments_lexer": "ipython3",
   "version": "3.9.6"
  }
 },
 "nbformat": 4,
 "nbformat_minor": 5
}
