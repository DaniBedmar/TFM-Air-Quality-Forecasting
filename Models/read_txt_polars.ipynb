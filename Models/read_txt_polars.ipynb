{
 "cells": [
  {
   "cell_type": "code",
   "execution_count": 31,
   "metadata": {},
   "outputs": [],
   "source": [
    "import matplotlib.pyplot as plt\n",
    "from pathlib import Path\n",
    "import pandas as pd\n",
    "import polars as pl\n",
    "import numpy as np\n",
    "import chardet\n",
    "import os"
   ]
  },
  {
   "cell_type": "markdown",
   "metadata": {},
   "source": [
    "### 1. Leer el fichero"
   ]
  },
  {
   "cell_type": "code",
   "execution_count": 32,
   "metadata": {},
   "outputs": [],
   "source": [
    "path = os.path.join(\"Data\", \"DGT\")"
   ]
  },
  {
   "cell_type": "code",
   "execution_count": 43,
   "metadata": {},
   "outputs": [],
   "source": [
    "input_file = os.path.join(path,'Parque_exacto','mat_2023.txt')\n",
    "columns= ['EMISIONES_CO2','FECHA_MATR','FECHA_PRIM_MATR']\n",
    "\n",
    "parque = pl.scan_csv(input_file, separator='|').select(columns)\n",
    "parque = parque.with_columns(pl.col(\"FECHA_MATR\",\"FECHA_PRIM_MATR\").str.to_date(\"%d/%m/%Y\", strict=False))\n",
    "parque= parque.filter(pl.col(\"FECHA_MATR\") > pl.col(\"FECHA_PRIM_MATR\"))\n",
    "\n",
    "output_file = os.path.join(path,'Parque_exacto','parque_exacto_filrado_reducico.csv')\n",
    "park = parque.collect()\n",
    "park.write_csv(output_file)"
   ]
  },
  {
   "cell_type": "markdown",
   "metadata": {},
   "source": [
    "### 2. Check the date of the exact photo"
   ]
  },
  {
   "cell_type": "code",
   "execution_count": 39,
   "metadata": {},
   "outputs": [],
   "source": [
    "output_file = os.path.join(path,'Parque_exacto','parque_exacto_filrado.csv')\n",
    "columns= ['EMISIONES_CO2','FECHA_MATR','FECHA_PRIM_MATR']\n",
    "parque = pl.scan_csv(output_file,try_parse_dates = True).select(columns)"
   ]
  },
  {
   "cell_type": "code",
   "execution_count": 40,
   "metadata": {},
   "outputs": [],
   "source": [
    "foto_exacta = parque.collect()"
   ]
  },
  {
   "cell_type": "code",
   "execution_count": 41,
   "metadata": {},
   "outputs": [
    {
     "name": "stdout",
     "output_type": "stream",
     "text": [
      "The newest registered car is from teh day 2023-12-29\n"
     ]
    }
   ],
   "source": [
    "fecha_foto = foto_exacta.select(pl.max(\"FECHA_MATR\")).item()\n",
    "print(f'The newest registered car is from teh day {fecha_foto}')"
   ]
  },
  {
   "cell_type": "markdown",
   "metadata": {},
   "source": [
    "### 3. Read teh registrations and deregisters"
   ]
  },
  {
   "cell_type": "markdown",
   "metadata": {},
   "source": [
    "tanks to @ghuls on https://github.com/pola-rs/polars/issues/3151"
   ]
  },
  {
   "cell_type": "code",
   "execution_count": null,
   "metadata": {},
   "outputs": [],
   "source": [
    "def tramit_file_reader(file_name, cols_to_keep = ['EMISIONES_CO2','FEC_MATRICULA','CLAVE_TRAMITE','FEC_TRAMITE']):\n",
    "    \n",
    "    col_widths = [8,1,8,30,22,1,21,2,1,5,6,6,6,3,2,2,2,2,24,2,2,1,8,5,8,1,1,9,3,5,30,7,3,5,1,1,1,1,1,1,11,25,25,35,70,6,6,4,4,3,8,4,4,4,6,30,50,35,25,35,4,4,4,1,25,1,4,25,8]\n",
    "    col_names = [\"FEC_MATRICULA\",\"COD_CLASE_MAT\",\"FEC_TRAMITACION\",\"MARCA_ITV\",\"MODELO_ITV\",\"COD_PROCEDENCIA_ITV\",\"BASTIDOR_ITV\",\"COD_TIPO\",\n",
    "    \"COD_PROPULSION_ITV\",\"CILINDRADA_ITV\",\"POTENCIA_ITV\",\"TARA\",\"PESO_MAX\",\"NUM_PLAZAS\",\"IND_PRECINTO\",\"IND_EMBARGO\",\"NUM_TRANSMISIONES\",\n",
    "    \"NUM_TITULARES\",\"LOCALIDAD_VEHICULO\",\"COD_PROVINCIA_VEH\",\"COD_PROVINCIA_MAT\",\"CLAVE_TRAMITE\",\"FEC_TRAMITE\",\"CODIGO_POSTAL\",\"FEC_PRIM_MATRICULACION\",\n",
    "    \"IND_NUEVO_USADO\",\"PERSONA_FISICA_JURIDICA\",\"CODIGO_ITV\",\"SERVICIO\",\"COD_MUNICIPIO_INE_VEH\",\"MUNICIPIO\",\"KW_ITV\",\"NUM_PLAZAS_MAX\",\"EMISIONES_CO2\",\"RENTING\", \n",
    "    \"COD_TUTELA\", \"COD_POSESION\",\"IND_BAJA_DEF\",\"IND_BAJA_TEMP\", \"IND_SUSTRACCION\",\"BAJA_TELEMATICA\",\"TIPO_ITV\",\"VARIANTE_ITV\",\"VERSION_ITV\",\n",
    "    \"FABRICANTE_ITV\", \"MASA_ORDEN_MARCHA_ITV\",\"MASA_MAXIMA_TECNICA_ADMISIBLE_ITV\",\"CATEGORÍA_HOMOLOGACION_EUROPEA_ITV\",\"CARROCERIA\",\"PLAZAS_PIE\",\n",
    "    \"NIVEL_EMISIONES_EURO_ITV\",\"CONSUMO_WH/KM_ITV\",\"CLASIFICACIÓN_REGLAMENTO_VEHICULOS_ITV\", \"CATEGORÍA_VEHICULO_ELECTRICO\",\"AUTONOMÍA_VEHÍCULO_ELÉCTRICO\",\n",
    "    \"MARCA_VEHÍCULO_BASE\",\"FABRICANTE_VEHÍCULO_BASE\",\"TIPO_VEHÍCULO_BASE\",\"VARIANTE_VEHÍCULO_BASE\",\"VERSIÓN_VEHÍCULO_BASE\",\"DISTANCIA_EJES_12_ITV\",\n",
    "    \"VIA_ANTERIOR_ITV\",\"VIA_POSTERIOR_ITV\",\"TIPO_ALIMENTACION_ITV\",\"CONTRASEÑA_HOMOLOGACION_ITV\",\"ECO_INNOVACION_ITV\",\"REDUCCION_ECO_ITV\",\"CODIGO_ECO_ITV\",\"FEC_PROCESO\"\n",
    "    ]\n",
    "    cols_to_keep = ['EMISIONES_CO2','FEC_MATRICULA','CLAVE_TRAMITE','FEC_TRAMITE']\n",
    "    slice_tuples = []\n",
    "    offset = 0\n",
    "\n",
    "    for i, separation in enumerate(col_widths):\n",
    "        start = offset\n",
    "        end = separation\n",
    "        slice_tuples.append((start, end,col_names[i]))\n",
    "        offset += separation\n",
    "\n",
    "    df = pl.read_csv(\n",
    "        file_name,\n",
    "        has_header=False,\n",
    "        encoding='ISO-8859-1',\n",
    "        truncate_ragged_lines=True,\n",
    "        new_columns=[\"full_str\"],\n",
    "    )\n",
    "\n",
    "    exprs = [\n",
    "        pl.col(\"full_str\")\n",
    "        .str.slice(start, end)\n",
    "        .str.strip_chars()\n",
    "        .alias(col_name)\n",
    "        for start, end, col_name in slice_tuples\n",
    "    ]\n",
    "\n",
    "    df = df.with_columns(exprs).select(cols_to_keep)\n",
    "    df = df.with_columns(pl.col(\"FEC_MATRICULA\",\"FEC_TRAMITE\").str.to_date(\"%d%m%Y\", strict=False))\n",
    "    df = df.with_columns(pl.col(\"EMISIONES_CO2\",\"CLAVE_TRAMITE\").str.to_integer(base = 10, strict = False))\n",
    "    df = df.rename({\"CLAVE_TRAMITE\": \"apple\"})\n",
    "    return df"
   ]
  },
  {
   "cell_type": "code",
   "execution_count": 11,
   "metadata": {},
   "outputs": [],
   "source": [
    "bajas = os.path.join(path,\"bajas\",\"export_mensual_bajas_202501.txt\")\n",
    "coso = tramit_file_reader(bajas)"
   ]
  },
  {
   "cell_type": "code",
   "execution_count": 12,
   "metadata": {},
   "outputs": [
    {
     "data": {
      "text/html": [
       "<div><style>\n",
       ".dataframe > thead > tr,\n",
       ".dataframe > tbody > tr {\n",
       "  text-align: right;\n",
       "  white-space: pre-wrap;\n",
       "}\n",
       "</style>\n",
       "<small>shape: (176_112, 4)</small><table border=\"1\" class=\"dataframe\"><thead><tr><th>EMISIONES_CO2</th><th>FEC_MATRICULA</th><th>CLAVE_TRAMITE</th><th>FEC_TRAMITE</th></tr><tr><td>i64</td><td>date</td><td>i64</td><td>date</td></tr></thead><tbody><tr><td>53</td><td>2021-09-09</td><td>6</td><td>2025-01-01</td></tr><tr><td>null</td><td>2016-10-04</td><td>6</td><td>2025-01-01</td></tr><tr><td>null</td><td>2000-01-18</td><td>6</td><td>2025-01-01</td></tr><tr><td>null</td><td>1988-04-27</td><td>6</td><td>2025-01-01</td></tr><tr><td>null</td><td>2008-02-13</td><td>6</td><td>2025-01-01</td></tr><tr><td>&hellip;</td><td>&hellip;</td><td>&hellip;</td><td>&hellip;</td></tr><tr><td>null</td><td>2010-05-06</td><td>6</td><td>2025-01-31</td></tr><tr><td>null</td><td>2004-07-07</td><td>3</td><td>2025-01-31</td></tr><tr><td>null</td><td>2008-09-12</td><td>3</td><td>2025-01-31</td></tr><tr><td>89</td><td>2021-06-30</td><td>6</td><td>2024-10-29</td></tr><tr><td>null</td><td>2022-03-23</td><td>6</td><td>2024-09-20</td></tr></tbody></table></div>"
      ],
      "text/plain": [
       "shape: (176_112, 4)\n",
       "┌───────────────┬───────────────┬───────────────┬─────────────┐\n",
       "│ EMISIONES_CO2 ┆ FEC_MATRICULA ┆ CLAVE_TRAMITE ┆ FEC_TRAMITE │\n",
       "│ ---           ┆ ---           ┆ ---           ┆ ---         │\n",
       "│ i64           ┆ date          ┆ i64           ┆ date        │\n",
       "╞═══════════════╪═══════════════╪═══════════════╪═════════════╡\n",
       "│ 53            ┆ 2021-09-09    ┆ 6             ┆ 2025-01-01  │\n",
       "│ null          ┆ 2016-10-04    ┆ 6             ┆ 2025-01-01  │\n",
       "│ null          ┆ 2000-01-18    ┆ 6             ┆ 2025-01-01  │\n",
       "│ null          ┆ 1988-04-27    ┆ 6             ┆ 2025-01-01  │\n",
       "│ null          ┆ 2008-02-13    ┆ 6             ┆ 2025-01-01  │\n",
       "│ …             ┆ …             ┆ …             ┆ …           │\n",
       "│ null          ┆ 2010-05-06    ┆ 6             ┆ 2025-01-31  │\n",
       "│ null          ┆ 2004-07-07    ┆ 3             ┆ 2025-01-31  │\n",
       "│ null          ┆ 2008-09-12    ┆ 3             ┆ 2025-01-31  │\n",
       "│ 89            ┆ 2021-06-30    ┆ 6             ┆ 2024-10-29  │\n",
       "│ null          ┆ 2022-03-23    ┆ 6             ┆ 2024-09-20  │\n",
       "└───────────────┴───────────────┴───────────────┴─────────────┘"
      ]
     },
     "execution_count": 12,
     "metadata": {},
     "output_type": "execute_result"
    }
   ],
   "source": [
    "coso\n",
    "#Pasar fec tramite a fec_baja y borrar la columna de clave tramite\n",
    "#Concatenar todos los dataframes de la carpeta en uno y escribirlo\n"
   ]
  },
  {
   "cell_type": "code",
   "execution_count": null,
   "metadata": {},
   "outputs": [],
   "source": []
  }
 ],
 "metadata": {
  "kernelspec": {
   "display_name": "Python 3",
   "language": "python",
   "name": "python3"
  },
  "language_info": {
   "codemirror_mode": {
    "name": "ipython",
    "version": 3
   },
   "file_extension": ".py",
   "mimetype": "text/x-python",
   "name": "python",
   "nbconvert_exporter": "python",
   "pygments_lexer": "ipython3",
   "version": "3.9.6"
  }
 },
 "nbformat": 4,
 "nbformat_minor": 2
}
