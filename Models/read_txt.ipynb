{
 "cells": [
  {
   "cell_type": "code",
   "execution_count": 1,
   "metadata": {},
   "outputs": [],
   "source": [
    "import matplotlib.pyplot as plt\n",
    "from pathlib import Path\n",
    "import pandas as pd\n",
    "import numpy as np\n",
    "import chardet\n",
    "import os"
   ]
  },
  {
   "cell_type": "markdown",
   "metadata": {},
   "source": [
    "#### Objetivo\n",
    "Conseguir un dataframe el cual nos pueda decir que vehiculos hay matriculados en un cierto mes y año.\n",
    "\n",
    "Para ello necesitamos conocer el parque de vehiculos exacto en un punto inicial y poder saber los cambios respecto a ese punto.\n",
    "\n",
    "En neustro caso tenemos el fichero del parque de vehiculos \"mat_2034.txt\" y tenemos todos los tramites desde el dia de hoy hasta diciembre de 2014. Lo que podemos hacer es añadir una columna extra para Año de Matriculación, una para Mes de Matriculación, Año de Baja y Mes de Baja. De manera que si seleccionamos los vehciulos que estan matriculados, por ejemplo, en Abril de 2021 tenemos que seleccionar todos los vehciulos con fecha de baja posterior a abril de 2021 (o sin fecha de baja) y una baja de matriculacion anterior o igual a abril de 2021.\n",
    "\n",
    "#### Worflow\n",
    "1. Priemro leemos el fichero de parque de vehciulos y eliminamos todas las columnas que no nso interean.\n",
    "2. Comprobamos la fehca de matroculación más reciente para saber el punto de partida. (29-12-2023)\n",
    "3. Tenemos que concatenar los diferentes DataFrames que tenemos sobre tramites de manera que:\n",
    "    - Tengan las columnas que queremos\n",
    "    - 4 columnas más: Año Baja | Mes Baja | Año Matr | Mes Matr, para conseguirlo tenemos que clasificar los diferentes tramites como Alta o Matriculacion y extraer la fecha en la que se dio dicho tramite\n",
    "4. Una vez tenemos concatenados los dataframes de los tramites hay que concatenarlos con la foto exacta del parque\n",
    "5. Definir una funcion que nos diga los coches en circulación el mes y el año que queramos"
   ]
  },
  {
   "cell_type": "markdown",
   "metadata": {},
   "source": [
    "### 1. Leer el fichero"
   ]
  },
  {
   "cell_type": "code",
   "execution_count": 2,
   "metadata": {},
   "outputs": [],
   "source": [
    "def reader(name, sep=',', columns= ['EMISIONES_CO2','FECHA_MATR'], parse_dates=None):\n",
    "    chunksize = 10**4\n",
    "    dates_col = parse_dates\n",
    "    chunkreader = pd.read_csv(name, sep=sep, usecols=columns,chunksize=chunksize, \n",
    "                              on_bad_lines='skip', low_memory=False, parse_dates=dates_col) \n",
    "    #If bad lines not skipped we get an error bc of different types of data in the same columns\n",
    "    #Columns (0,1,8,11,12,15,19,20,23,24,25,26,27,30,32,33,37,39,40,41,42,43,44) \n",
    "\n",
    "    for chunk in chunkreader:\n",
    "        yield chunk"
   ]
  },
  {
   "cell_type": "code",
   "execution_count": 3,
   "metadata": {},
   "outputs": [],
   "source": [
    "path = os.path.join(\"Data\", \"DGT\")"
   ]
  },
  {
   "cell_type": "markdown",
   "metadata": {},
   "source": [
    "### 2. Comprobar la fecha más reciente"
   ]
  },
  {
   "cell_type": "code",
   "execution_count": 4,
   "metadata": {},
   "outputs": [
    {
     "name": "stdout",
     "output_type": "stream",
     "text": [
      "La matriculacion más reciente en la foto exacta del parque es del dia 2023-12-29 00:00:00\n"
     ]
    }
   ],
   "source": [
    "fechas = []\n",
    "file = os.path.join(path,\"Parque_exacto\",\"mat_2023.txt\")\n",
    "for chunk in reader(file,sep='|'):\n",
    "    chunk['FECHA_MATR'] = pd.to_datetime(chunk['FECHA_MATR'], errors='coerce', dayfirst=True)\n",
    "    fechas.append(chunk['FECHA_MATR'].max())\n",
    "\n",
    "dates = pd.DataFrame({'NEWEST_MATR' : fechas})\n",
    "newest_matr = dates['NEWEST_MATR'].max()\n",
    "print(f'La matriculacion más reciente en la foto exacta del parque es del dia {newest_matr}')"
   ]
  },
  {
   "cell_type": "code",
   "execution_count": 12,
   "metadata": {},
   "outputs": [
    {
     "name": "stdout",
     "output_type": "stream",
     "text": [
      "La matriculacion más reciente en la foto exacta del parque es del dia 2023-12-29 00:00:00\n"
     ]
    }
   ],
   "source": [
    "fechas = []\n",
    "file = os.path.join(path,\"Parque_exacto\",\"mat_2023.txt\")\n",
    "for chunk in reader(file,sep='|'):\n",
    "    chunk['FECHA_MATR'] = pd.to_datetime(chunk['FECHA_MATR'], errors='coerce', dayfirst=True)\n",
    "    fechas.extend(chunk['FECHA_MATR'].tolist())\n",
    "\n",
    "dates = pd.DataFrame({'NEWEST_MATR' : fechas})\n",
    "newest_matr = dates['NEWEST_MATR'].max()\n",
    "print(f'La matriculacion más reciente en la foto exacta del parque es del dia {newest_matr}')"
   ]
  },
  {
   "cell_type": "code",
   "execution_count": 89,
   "metadata": {},
   "outputs": [
    {
     "name": "stderr",
     "output_type": "stream",
     "text": [
      "/var/folders/gk/9s2n71rj4fq128zrj3x599pr0000gn/T/ipykernel_2366/2106594439.py:10: FutureWarning: The behavior of DataFrame concatenation with empty or all-NA entries is deprecated. In a future version, this will no longer exclude empty or all-NA columns when determining the result dtypes. To retain the old behavior, exclude the relevant entries before the concat operation.\n",
      "  strange_cases = pd.concat([strange_cases,filtered_df], axis=0)\n"
     ]
    }
   ],
   "source": [
    "file = os.path.join(path,\"Parque_exacto\",\"mat_2023.txt\")\n",
    "strange_cases = pd.DataFrame({'FECHA_MATR' : [],\n",
    "                              'FECHA_PRIM_MATR' : []})\n",
    "\n",
    "for matriculas in (reader(file,sep='|',columns= ['FECHA_PRIM_MATR','FECHA_MATR'])):\n",
    "    matriculas['FECHA_MATR'] = pd.to_datetime(matriculas['FECHA_MATR'], dayfirst=True)\n",
    "    matriculas['FECHA_PRIM_MATR'] = pd.to_datetime(matriculas['FECHA_PRIM_MATR'], dayfirst=True)\n",
    "\n",
    "    filtered_df = matriculas[matriculas['FECHA_PRIM_MATR'] > matriculas['FECHA_MATR']]\n",
    "    strange_cases = pd.concat([strange_cases,filtered_df], axis=0)\n",
    "\n",
    "    #if matriculas.FECHA_PRIM_MATR.max().year > 2023:"
   ]
  },
  {
   "cell_type": "code",
   "execution_count": 97,
   "metadata": {},
   "outputs": [
    {
     "data": {
      "text/html": [
       "<div>\n",
       "<style scoped>\n",
       "    .dataframe tbody tr th:only-of-type {\n",
       "        vertical-align: middle;\n",
       "    }\n",
       "\n",
       "    .dataframe tbody tr th {\n",
       "        vertical-align: top;\n",
       "    }\n",
       "\n",
       "    .dataframe thead th {\n",
       "        text-align: right;\n",
       "    }\n",
       "</style>\n",
       "<table border=\"1\" class=\"dataframe\">\n",
       "  <thead>\n",
       "    <tr style=\"text-align: right;\">\n",
       "      <th></th>\n",
       "      <th>FECHA_MATR</th>\n",
       "      <th>FECHA_PRIM_MATR</th>\n",
       "    </tr>\n",
       "  </thead>\n",
       "  <tbody>\n",
       "    <tr>\n",
       "      <th>2308750</th>\n",
       "      <td>2023-11-17</td>\n",
       "      <td>2025-11-14</td>\n",
       "    </tr>\n",
       "    <tr>\n",
       "      <th>7100686</th>\n",
       "      <td>2023-08-04</td>\n",
       "      <td>2025-07-21</td>\n",
       "    </tr>\n",
       "    <tr>\n",
       "      <th>32544636</th>\n",
       "      <td>2023-10-20</td>\n",
       "      <td>2025-10-18</td>\n",
       "    </tr>\n",
       "  </tbody>\n",
       "</table>\n",
       "</div>"
      ],
      "text/plain": [
       "         FECHA_MATR FECHA_PRIM_MATR\n",
       "2308750  2023-11-17      2025-11-14\n",
       "7100686  2023-08-04      2025-07-21\n",
       "32544636 2023-10-20      2025-10-18"
      ]
     },
     "execution_count": 97,
     "metadata": {},
     "output_type": "execute_result"
    }
   ],
   "source": [
    "strange_cases[strange_cases['FECHA_PRIM_MATR'].dt.year == 2025]"
   ]
  },
  {
   "cell_type": "markdown",
   "metadata": {},
   "source": [
    "### 3. Concatenar los dataframes de tramites"
   ]
  },
  {
   "cell_type": "markdown",
   "metadata": {},
   "source": [
    "Menuda broma como guardan los ficheros de tramites mensuales.\n",
    "- Estan codificados con ISO-8859-1\n",
    "- El fichero no tiene header, nombre de columnas definido en el codigo\n",
    "- Es un fixed-width file y cada columna ocupa una cantidad diferente, definido en el codigo"
   ]
  },
  {
   "cell_type": "markdown",
   "metadata": {},
   "source": [
    "Creo que FEC_TRAMITE (y/o FEC_TRAMITACION) indica cuando se hizo el tramite y FEC_PROCESO cuando ese tramite se hizo efectivo. Voy a coger FEC_TRAMITE por ahora"
   ]
  },
  {
   "cell_type": "code",
   "execution_count": 670,
   "metadata": {},
   "outputs": [
    {
     "name": "stdout",
     "output_type": "stream",
     "text": [
      "The encoding of the file is: ISO-8859-1\n"
     ]
    }
   ],
   "source": [
    "file = os.path.join(path,\"bajas\",\"export_mensual_bajas_202501.txt\")\n",
    "with open(file, 'rb') as f:\n",
    "    result = chardet.detect(f.read(11700))\n",
    "\n",
    "encoding = result['encoding']\n",
    "print(f'The encoding of the file is: {encoding}')\n",
    "\n",
    "col_widths = [8,1,8,30,22,1,21,2,1,5,6,6,6,3,2,2,2,2,24,2,2,1,8,5,8,1,1,9,3,5,30,7,3,5,1,1,1,1,1,1,11,25,25,35,70,6,6,4,4,3,8,4,4,4,6,30,50,35,25,35,4,4,4,1,25,1,4,25,8]\n",
    "col_names = [\"FEC_MATRICULA\",\"COD_CLASE_MAT\",\"FEC_TRAMITACION\",\"MARCA_ITV\",\"MODELO_ITV\",\"COD_PROCEDENCIA_ITV\",\"BASTIDOR_ITV\",\"COD_TIPO\",\n",
    "    \"COD_PROPULSION_ITV\",\"CILINDRADA_ITV\",\"POTENCIA_ITV\",\"TARA\",\"PESO_MAX\",\"NUM_PLAZAS\",\"IND_PRECINTO\",\"IND_EMBARGO\",\"NUM_TRANSMISIONES\",\n",
    "    \"NUM_TITULARES\",\"LOCALIDAD_VEHICULO\",\"COD_PROVINCIA_VEH\",\"COD_PROVINCIA_MAT\",\"CLAVE_TRAMITE\",\"FEC_TRAMITE\",\"CODIGO_POSTAL\",\"FEC_PRIM_MATRICULACION\",\n",
    "    \"IND_NUEVO_USADO\",\"PERSONA_FISICA_JURIDICA\",\"CODIGO_ITV\",\"SERVICIO\",\"COD_MUNICIPIO_INE_VEH\",\"MUNICIPIO\",\"KW_ITV\",\"NUM_PLAZAS_MAX\",\"EMISIONES_CO2\",\"RENTING\", \n",
    "    \"COD_TUTELA\", \"COD_POSESION\",\"IND_BAJA_DEF\",\"IND_BAJA_TEMP\", \"IND_SUSTRACCION\",\"BAJA_TELEMATICA\",\"TIPO_ITV\",\"VARIANTE_ITV\",\"VERSION_ITV\",\n",
    "    \"FABRICANTE_ITV\", \"MASA_ORDEN_MARCHA_ITV\",\"MASA_MAXIMA_TECNICA_ADMISIBLE_ITV\",\"CATEGORÍA_HOMOLOGACION_EUROPEA_ITV\",\"CARROCERIA\",\"PLAZAS_PIE\",\n",
    "    \"NIVEL_EMISIONES_EURO_ITV\",\"CONSUMO_WH/KM_ITV\",\"CLASIFICACIÓN_REGLAMENTO_VEHICULOS_ITV\", \"CATEGORÍA_VEHICULO_ELECTRICO\",\"AUTONOMÍA_VEHÍCULO_ELÉCTRICO\",\n",
    "    \"MARCA_VEHÍCULO_BASE\",\"FABRICANTE_VEHÍCULO_BASE\",\"TIPO_VEHÍCULO_BASE\",\"VARIANTE_VEHÍCULO_BASE\",\"VERSIÓN_VEHÍCULO_BASE\",\"DISTANCIA_EJES_12_ITV\",\n",
    "    \"VIA_ANTERIOR_ITV\",\"VIA_POSTERIOR_ITV\",\"TIPO_ALIMENTACION_ITV\",\"CONTRASEÑA_HOMOLOGACION_ITV\",\"ECO_INNOVACION_ITV\",\"REDUCCION_ECO_ITV\",\"CODIGO_ECO_ITV\",\"FEC_PROCESO\"\n",
    "]\n",
    "\n",
    "def tramit_reader(file_path,col_widths=col_widths,col_names=col_names, encoding='ISO-8859-1',skipped_row=0):\n",
    "    df = pd.read_fwf(\n",
    "        file_path,\n",
    "        widths=col_widths,\n",
    "        encoding=encoding,\n",
    "        header=None,\n",
    "        skiprows=skipped_row\n",
    "    )\n",
    "    df.columns = col_names\n",
    "    return df\n",
    "\n",
    "def normalize_date(date_str):\n",
    "    date_str = str(date_str).strip()\n",
    "    if len(date_str) == 7:\n",
    "        return '0' + date_str\n",
    "    return date_str\n",
    "\n",
    "#Tengo dudas si el 5 deberia contar como matriculacion\n",
    "def tramit_checker(df):\n",
    "    Mat = [1,5,8,9]\n",
    "    Baja = [0,3,4,6,7]\n",
    "\n",
    "    clave_tramite = df['CLAVE_TRAMITE'][0]\n",
    "\n",
    "    if clave_tramite in Baja:\n",
    "        return df['FEC_TRAMITE']\n",
    "    else:\n",
    "        return float(\"nan\")\n",
    "    \n",
    "def tramit_proces(df):\n",
    "    df['FEC_MATRICULA'] = df['FEC_MATRICULA'].apply(normalize_date)\n",
    "    df['FEC_MATRICULA'] = pd.to_datetime(df['FEC_MATRICULA'], format='%d%m%Y')\n",
    "    df['FEC_TRAMITE'] = df['FEC_TRAMITE'].apply(normalize_date)\n",
    "    df['FEC_TRAMITE'] = pd.to_datetime(df['FEC_TRAMITE'], format='%d%m%Y')\n",
    "    df = pd.concat([df,tramit_checker(df)], axis=1)\n",
    "    df.columns = ['EMISIONES_CO2','FEC_MATRICULA','CLAVE_TRAMITE','FEC_TRAMITE','FEC_BAJA']\n",
    "    df = df.drop(['FEC_TRAMITE','CLAVE_TRAMITE','FEC_TRAMITE'], axis=1)\n",
    "    return df\n",
    "\n",
    "def matr_proces(df):\n",
    "    df['FEC_MATRICULA'] = df['FEC_MATRICULA'].apply(normalize_date)\n",
    "    df['FEC_MATRICULA'] = pd.to_datetime(df['FEC_MATRICULA'], format='%d%m%Y')\n",
    "    df = df.drop(['FEC_TRAMITE','CLAVE_TRAMITE'], axis=1)\n",
    "    dummy = pd.DataFrame(np.nan, index=list(range(0,df.shape[0])), columns=['FEC_BAJA'])\n",
    "    dummy['FEC_BAJA'] = pd.to_datetime(dummy['FEC_BAJA'])\n",
    "    df = pd.concat([df,dummy], axis=1)\n",
    "    df.columns = ['EMISIONES_CO2','FEC_MATRICULA','FEC_BAJA']\n",
    "    return df"
   ]
  },
  {
   "cell_type": "markdown",
   "metadata": {},
   "source": [
    "#### Bajas"
   ]
  },
  {
   "cell_type": "code",
   "execution_count": null,
   "metadata": {},
   "outputs": [],
   "source": [
    "tramit_path = Path(os.path.join(path,\"bajas\"))\n",
    "files = [f.name for f in tramit_path.iterdir() if f.is_file()]\n",
    "col_to_keep = ['EMISIONES_CO2','FEC_MATRICULA','CLAVE_TRAMITE','FEC_TRAMITE']\n",
    "col_names = ['EMISIONES_CO2','FEC_MATRICULA','FEC_BAJA']\n",
    "tramit_file = os.path.join(path,\"bajas\",\"bajas.csv\")\n",
    "\n",
    "for x,file in enumerate(files):\n",
    "    file = os.path.join(path,\"bajas\",file)\n",
    "    if x == 0:\n",
    "        df = tramit_reader(file)\n",
    "        df = df[col_to_keep]\n",
    "        procesado = tramit_proces(df)\n",
    "        procesado.to_csv(tramit_file, mode='w', header=col_names, index=False)\n",
    "    else:\n",
    "        df = tramit_reader(file)\n",
    "        df = df[col_to_keep]\n",
    "        procesado = tramit_proces(df)\n",
    "        procesado.to_csv(tramit_file, mode='a', header=False, index=False)"
   ]
  },
  {
   "cell_type": "markdown",
   "metadata": {},
   "source": [
    "#### Matriculaciones"
   ]
  },
  {
   "cell_type": "code",
   "execution_count": 674,
   "metadata": {},
   "outputs": [],
   "source": [
    "tramit_path = Path(os.path.join(path,\"matr\"))\n",
    "files = [f.name for f in tramit_path.iterdir() if f.is_file()]\n",
    "col_to_keep = ['EMISIONES_CO2','FEC_MATRICULA','CLAVE_TRAMITE','FEC_TRAMITE']\n",
    "col_names = ['EMISIONES_CO2','FEC_MATRICULA','FEC_BAJA']\n",
    "tramit_file = os.path.join(path,\"matr\",\"matr.csv\")\n",
    "\n",
    "for x,file in enumerate(files):\n",
    "    file = os.path.join(path,\"matr\",file)\n",
    "    if x == 0:\n",
    "        df = tramit_reader(file,skipped_row=1)\n",
    "        df = df[col_to_keep]\n",
    "        procesado = matr_proces(df)\n",
    "        procesado.to_csv(tramit_file, mode='w', header=col_names, index=False)\n",
    "    else:\n",
    "        df = tramit_reader(file,skipped_row=1)\n",
    "        df = df[col_to_keep]\n",
    "        procesado = matr_proces(df)\n",
    "        procesado.to_csv(tramit_file, mode='a', header=False, index=False)"
   ]
  },
  {
   "cell_type": "markdown",
   "metadata": {},
   "source": [
    "### 4. Adaptar el fichero de la foto exacta al formato\n",
    "Del fichero de los tramites tenemos un dataframe que tiene las columnas que queremos (de momento solo la de EMISIONES_CO2 y 4 columnas con mes y año de matriculacion y baja del vehiculo)."
   ]
  },
  {
   "cell_type": "code",
   "execution_count": 554,
   "metadata": {},
   "outputs": [],
   "source": [
    "col_names = ['EMISIONES_CO2','FEC_MATRICULA','FEC_BAJA']\n",
    "file = os.path.join(path,\"Parque_exacto\",\"mat_2023.txt\")\n",
    "foto_exacta_file = os.path.join(path,\"Parque_exacto\",\"foto_exacta.csv\")\n",
    "\n",
    "for x,chunk in enumerate(reader(file,sep='|')):\n",
    "    chunk = chunk.iloc[:, [1, 0]]\n",
    "    chunk['FECHA_MATR'] = pd.to_datetime(chunk['FECHA_MATR'], errors='coerce', dayfirst=True)\n",
    "    df = pd.DataFrame(np.nan, index=list(range(0,chunk.shape[0])), columns=['FEC_BAJA'])\n",
    "    chunk = pd.concat([chunk,df], axis=1)\n",
    "    chunk.columns = ['EMISIONES_CO2','FEC_MATRICULA','FEC_BAJA']\n",
    "\n",
    "    if x == 0:\n",
    "        chunk.to_csv(foto_exacta_file, mode='w', header=col_names, index=False)\n",
    "    else:\n",
    "        chunk.to_csv(foto_exacta_file, mode='a', header=False, index=False)"
   ]
  },
  {
   "cell_type": "markdown",
   "metadata": {},
   "source": [
    "### 5. Crear funcion que nos diga los coches circulando"
   ]
  },
  {
   "cell_type": "markdown",
   "metadata": {},
   "source": [
    "El Dataframe exacto está hecho solo hasta diciembre de 2023\n",
    "\n",
    "---\n",
    "\n",
    "Si la fecha es posterior a la foto del parque:\n",
    "\n",
    "A = Seleecione todos los coches que tienen fecha de matriculacion anterior a la fecha (en la foto exacta)\n",
    "\n",
    "B = Seleccione todos los coches que tienen fecha de matriculacion anterior a la fecha de baja posterior (en las bajas)\n",
    "\n",
    "B' = Selecciones todos los coches que tienen fecha de matriculacion anterioir a la fecha (en las matriculaciones)\n",
    "\n",
    "Resultado = A - B + B'\n",
    "\n",
    "---\n",
    "\n",
    "Si la foto es anterioir a la foto del parque:\n",
    "\n",
    "A = Seleecione todos los coches que tienen fecha de matriculacion anterior a la fecha (en la foto exacta)\n",
    "\n",
    "C = Seleccione todos los tramites de baja que esten entre la fecha y la fecha de la foto exacta\n",
    "\n",
    "Resultado = A + B"
   ]
  },
  {
   "cell_type": "code",
   "execution_count": 101,
   "metadata": {},
   "outputs": [],
   "source": [
    "def get_cars(fecha,foto_exacta,baja,matr,fecha_foto):\n",
    "    '''\n",
    "    fecha : date on pd.timestamp format from which we want to exctract the info\n",
    "    foto_exacta : pd.Dataframe with an exact \"photo\" of the automobilistic park\n",
    "    baja : pd.Dataframe with all the car retirements we have\n",
    "    matr : pd.Dataframe with all the car matriculations we have\n",
    "    fecha_foto : date on pd.timestamp format of when the foto_exacta was taken\n",
    "    '''\n",
    "    A = foto_exacta[foto_exacta['FEC_MATRICULA'] <= fecha]\n",
    "\n",
    "    if fecha >= fecha_foto:\n",
    "        B = matr[\n",
    "            (matr['FEC_MATRICULA'] > fecha_foto) &\n",
    "            (matr['FEC_MATRICULA'] <= fecha) #&\n",
    "            #((matr['FEC_BAJA'].isnull()) | (matr['FEC_BAJA'] > fecha))\n",
    "        ]\n",
    "\n",
    "        C = baja[\n",
    "            (baja['FEC_BAJA'] >= fecha_foto) &\n",
    "            (baja['FEC_BAJA'] <= fecha) &\n",
    "            (baja['FEC_MATRICULA'] <= fecha_foto)\n",
    "        ] \n",
    "    \n",
    "        emisiones = (A['EMISIONES_CO2'].sum() +\n",
    "                     B['EMISIONES_CO2'].sum() -\n",
    "                     C['EMISIONES_CO2'].sum())\n",
    "        \n",
    "        return emisiones\n",
    "\n",
    "    else:\n",
    "        C = baja[\n",
    "            #(baja['FEC_MATRICULA'] <= fecha) &\n",
    "            (baja['FEC_BAJA'] >= fecha) & \n",
    "            (baja['FEC_BAJA'] <= fecha_foto)\n",
    "        ]\n",
    "\n",
    "        emisiones = (A['EMISIONES_CO2'].sum() +\n",
    "                     C['EMISIONES_CO2'].sum())\n",
    "        \n",
    "        return emisiones"
   ]
  },
  {
   "cell_type": "code",
   "execution_count": 99,
   "metadata": {},
   "outputs": [],
   "source": [
    "DateOffset = pd.tseries.offsets.DateOffset\n",
    "date = pd.to_datetime('2025-02-01')\n",
    "dates = []\n",
    "#'2022-10-01'\n",
    "while date > pd.to_datetime('2022-10-01'):\n",
    "    dates.append(date)\n",
    "    date = date - DateOffset(months=1)"
   ]
  },
  {
   "cell_type": "code",
   "execution_count": 103,
   "metadata": {},
   "outputs": [],
   "source": [
    "dummy_df = pd.DataFrame(columns=['EMISIONES_CO2', 'FEC_MATRICULA', 'FEC_BAJA'])\n",
    "dummy_df['FEC_BAJA'] = pd.to_datetime(dummy_df['FEC_BAJA'])\n",
    "dummy_df['FEC_MATRICULA'] = pd.to_datetime(dummy_df['FEC_MATRICULA'])\n",
    "emisions = []\n",
    "fecha_foto = pd.to_datetime('2023-12-29 00:00:00')\n",
    "\n",
    "foto_exacta_file = os.path.join(path,\"Parque_exacto\",\"foto_exacta.csv\")\n",
    "tramit_file = os.path.join(path,\"matr\",\"matr.csv\")\n",
    "col_names = ['EMISIONES_CO2','FEC_MATRICULA','FEC_BAJA']\n",
    "\n",
    "for date in dates:\n",
    "    emision = 0\n",
    "\n",
    "    for chunk in (reader(foto_exacta_file,columns=col_names,parse_dates=[1, 2])):\n",
    "        emision += get_cars(date,chunk,dummy_df,dummy_df,fecha_foto)\n",
    "\n",
    "    for chunk in (reader(tramit_file,columns=col_names,parse_dates=[1, 2])):\n",
    "        emision += get_cars(date,dummy_df,chunk,dummy_df,fecha_foto)\n",
    "\n",
    "    for chunk in (reader(tramit_file,columns=col_names,parse_dates=[1, 2])):\n",
    "        emision += get_cars(date,dummy_df,dummy_df,chunk,fecha_foto)\n",
    "        \n",
    "    emisions.append(emision)\n",
    "\n",
    "results = {\n",
    "    'Date' : dates,\n",
    "    'Emisions' : emisions\n",
    "}\n",
    "results = pd.DataFrame(results)\n",
    "results.to_csv('results2.csv')"
   ]
  },
  {
   "cell_type": "code",
   "execution_count": 104,
   "metadata": {},
   "outputs": [
    {
     "name": "stderr",
     "output_type": "stream",
     "text": [
      "/var/folders/gk/9s2n71rj4fq128zrj3x599pr0000gn/T/ipykernel_2366/4013675395.py:10: UserWarning: No artists with labels found to put in legend.  Note that artists whose label start with an underscore are ignored when legend() is called with no argument.\n",
      "  plt.legend()\n"
     ]
    },
    {
     "data": {
      "image/png": "[encoded data removed]",
      "text/plain": [
       "<Figure size 1000x500 with 1 Axes>"
      ]
     },
     "metadata": {},
     "output_type": "display_data"
    }
   ],
   "source": [
    "import matplotlib.pyplot as plt\n",
    "\n",
    "plt.figure(figsize=(10, 5))\n",
    "plt.plot(dates, emisions, linestyle='-')\n",
    "\n",
    "plt.xlabel(\"Mes\")\n",
    "plt.ylabel(\"Emisions\")\n",
    "plt.title(\"Emisiones del parque por mes\")\n",
    "plt.xticks(rotation=45)\n",
    "plt.legend()\n",
    "plt.grid(True)\n",
    "\n",
    "plt.show()"
   ]
  },
  {
   "cell_type": "code",
   "execution_count": 704,
   "metadata": {},
   "outputs": [],
   "source": [
    "results = {\n",
    "    'Date' : dates,\n",
    "    'Emisions' : emisions\n",
    "}\n",
    "results = pd.DataFrame(results)\n",
    "results.to_csv('results.csv')"
   ]
  }
 ],
 "metadata": {
  "kernelspec": {
   "display_name": "Python 3",
   "language": "python",
   "name": "python3"
  },
  "language_info": {
   "codemirror_mode": {
    "name": "ipython",
    "version": 3
   },
   "file_extension": ".py",
   "mimetype": "text/x-python",
   "name": "python",
   "nbconvert_exporter": "python",
   "pygments_lexer": "ipython3",
   "version": "3.9.6"
  }
 },
 "nbformat": 4,
 "nbformat_minor": 2
}
