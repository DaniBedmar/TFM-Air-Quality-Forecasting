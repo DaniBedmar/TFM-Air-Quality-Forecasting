{
 "cells": [
  {
   "cell_type": "code",
   "execution_count": 21,
   "id": "a8a0f190",
   "metadata": {},
   "outputs": [],
   "source": [
    "import os\n",
    "import polars as pl"
   ]
  },
  {
   "cell_type": "code",
   "execution_count": 63,
   "id": "4762d7c9",
   "metadata": {},
   "outputs": [],
   "source": [
    "path = os.path.join('..','Data','INE')\n",
    "files = sorted([f for f in os.listdir(path) if os.path.isfile(os.path.join(path,f))])\n",
    "files_path = [os.path.join(path,f) for f in files]\n",
    "\n",
    "cities = {\"BCN\":[8,19],\"VLC\":[46,250],\"BILB\":[48,20],\"MAD\":[28,79],\"SEV\":[41,91],\n",
    "    \"ZAR\":[50,297],\"MAL\":[29,67],\"MURC\":[30,30],\"MALL\":[7,40],\"PGC\":[35,16],\n",
    "    \"ALIC\":[3,14],\"COR\":[14,21],\"VALL\":[47,186],\"VIG\":[36,57],\"GIJ\":[33,24],\n",
    "    \"VIT\":[1,59],\"ELCH\":[3,65],\"GRAN\":[18,87],\"TERR\":[8,279],\"SAB\":[8,187],\n",
    "    \"OVI\":[33,44],\"PAMP\":[31,201],\"ALM\":[4,13],\n",
    "}\n",
    "population = {city : [] for city in cities}\n",
    "population['year'] =  [2015,2016,2017,2018,2019,2020,2021,2022,2023]\n",
    "for file_path in files_path:\n",
    "    df = pl.read_excel(file_path)\n",
    "    df = df.rename({df.columns[0]: 'PROVINCIA',\n",
    "                    df.columns[2]: 'MUNICIPIO',\n",
    "                    df.columns[4]: 'POBLACION'})\n",
    "\n",
    "    df = df.select(['PROVINCIA','MUNICIPIO','POBLACION'])\n",
    "    df = df.remove(pl.col('PROVINCIA') == \"CPRO\")\n",
    "    df = df.cast({'PROVINCIA': pl.Int32,\n",
    "                  'MUNICIPIO': pl.Int32,\n",
    "                  'POBLACION': pl.Int32})\n",
    "    for city in cities.keys():\n",
    "        pop = df.filter(\n",
    "            (pl.col('PROVINCIA') == cities[city][0]) &\n",
    "            (pl.col('MUNICIPIO') == cities[city][1])\n",
    "        )['POBLACION'][0]\n",
    "        population[city].append(pop)"
   ]
  }
 ],
 "metadata": {
  "kernelspec": {
   "display_name": ".venv",
   "language": "python",
   "name": "python3"
  },
  "language_info": {
   "codemirror_mode": {
    "name": "ipython",
    "version": 3
   },
   "file_extension": ".py",
   "mimetype": "text/x-python",
   "name": "python",
   "nbconvert_exporter": "python",
   "pygments_lexer": "ipython3",
   "version": "3.9.6"
  }
 },
 "nbformat": 4,
 "nbformat_minor": 5
}
